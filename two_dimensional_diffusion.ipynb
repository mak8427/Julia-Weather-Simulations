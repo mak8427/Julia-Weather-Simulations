{
 "cells": [
  {
   "cell_type": "code",
   "execution_count": 13,
   "metadata": {},
   "outputs": [
    {
     "data": {
      "text/plain": [
       "NonhydrostaticModel{GPU, RectilinearGrid}(time = 0 seconds, iteration = 0)\n",
       "├── grid: 512×512×1 RectilinearGrid{Float64, Periodic, Periodic, Flat} on GPU with 3×3×0 halo\n",
       "├── timestepper: RungeKutta3TimeStepper\n",
       "├── advection scheme: Upwind Biased reconstruction order 5\n",
       "├── tracers: ()\n",
       "├── closure: ScalarDiffusivity{ExplicitTimeDiscretization}(ν=1.0e-5)\n",
       "├── buoyancy: Nothing\n",
       "└── coriolis: Nothing"
      ]
     },
     "metadata": {},
     "output_type": "display_data"
    }
   ],
   "source": [
    "using Oceananigans\n",
    "\n",
    "grid = RectilinearGrid(GPU(), size=(512, 512), extent=(2π, 2π), topology=(Periodic, Periodic, Flat))\n",
    "\n",
    "model = NonhydrostaticModel(; grid,\n",
    "                            timestepper = :RungeKutta3,\n",
    "                            advection = UpwindBiasedFifthOrder(),\n",
    "                            closure = ScalarDiffusivity(ν=1e-5))"
   ]
  },
  {
   "cell_type": "code",
   "execution_count": 14,
   "metadata": {},
   "outputs": [],
   "source": []
  },
  {
   "cell_type": "code",
   "execution_count": 15,
   "metadata": {},
   "outputs": [
    {
     "data": {
      "text/plain": [
       "Simulation of NonhydrostaticModel{GPU, RectilinearGrid}(time = 0 seconds, iteration = 0)\n",
       "├── Next time step: 200 ms\n",
       "├── Elapsed wall time: 0 seconds\n",
       "├── Wall time per iteration: NaN days\n",
       "├── Stop time: 5 minutes\n",
       "├── Stop iteration : Inf\n",
       "├── Wall time limit: Inf\n",
       "├── Callbacks: OrderedDict with 4 entries:\n",
       "│   ├── stop_time_exceeded => Callback of stop_time_exceeded on IterationInterval(1)\n",
       "│   ├── stop_iteration_exceeded => Callback of stop_iteration_exceeded on IterationInterval(1)\n",
       "│   ├── wall_time_limit_exceeded => Callback of wall_time_limit_exceeded on IterationInterval(1)\n",
       "│   └── nan_checker => Callback of NaNChecker for u on IterationInterval(100)\n",
       "├── Output writers: OrderedDict with no entries\n",
       "└── Diagnostics: OrderedDict with no entries"
      ]
     },
     "metadata": {},
     "output_type": "display_data"
    }
   ],
   "source": [
    "simulation = Simulation(model, Δt=0.2, stop_time=300)"
   ]
  },
  {
   "cell_type": "code",
   "execution_count": 16,
   "metadata": {},
   "outputs": [],
   "source": [
    "using Printf\n",
    "\n",
    "function progress_message(sim)\n",
    "    max_abs_u = maximum(abs, sim.model.velocities.u)\n",
    "    walltime = prettytime(sim.run_wall_time)\n",
    "\n",
    "    return @info @sprintf(\"Iteration: %04d, time: %1.3f, Δt: %.2e, max(|u|) = %.1e, wall time: %s\\n\",\n",
    "                          iteration(sim), time(sim), sim.Δt, max_abs_u, walltime)\n",
    "end\n",
    "\n",
    "add_callback!(simulation, progress_message, IterationInterval(100))"
   ]
  },
  {
   "cell_type": "code",
   "execution_count": 17,
   "metadata": {},
   "outputs": [
    {
     "data": {
      "text/plain": [
       "NamedTuple with 3 Fields on 512×512×1 RectilinearGrid{Float64, Periodic, Periodic, Flat} on GPU with 3×3×0 halo:\n",
       "├── u: 512×512×1 Field{Face, Center, Center} on RectilinearGrid on GPU\n",
       "├── v: 512×512×1 Field{Center, Face, Center} on RectilinearGrid on GPU\n",
       "└── w: 512×512×1 Field{Center, Center, Face} on RectilinearGrid on GPU"
      ]
     },
     "metadata": {},
     "output_type": "display_data"
    }
   ],
   "source": [
    "u, v, w = model.velocities"
   ]
  },
  {
   "cell_type": "code",
   "execution_count": 18,
   "metadata": {},
   "outputs": [
    {
     "data": {
      "text/plain": [
       "BinaryOperation at (Face, Face, Center)\n",
       "├── grid: 512×512×1 RectilinearGrid{Float64, Periodic, Periodic, Flat} on GPU with 3×3×0 halo\n",
       "└── tree: \n",
       "    - at (Face, Face, Center)\n",
       "    ├── ∂xᶠᶠᶜ at (Face, Face, Center) via identity\n",
       "    │   └── 512×512×1 Field{Center, Face, Center} on RectilinearGrid on GPU\n",
       "    └── ∂yᶠᶠᶜ at (Face, Face, Center) via identity\n",
       "        └── 512×512×1 Field{Face, Center, Center} on RectilinearGrid on GPU"
      ]
     },
     "metadata": {},
     "output_type": "display_data"
    }
   ],
   "source": [
    "ω = ∂x(v) - ∂y(u)"
   ]
  },
  {
   "cell_type": "code",
   "execution_count": 19,
   "metadata": {},
   "outputs": [
    {
     "data": {
      "text/plain": [
       "UnaryOperation at (Face, Center, Center)\n",
       "├── grid: 512×512×1 RectilinearGrid{Float64, Periodic, Periodic, Flat} on GPU with 3×3×0 halo\n",
       "└── tree: \n",
       "    sqrt at (Face, Center, Center) via identity\n",
       "    └── + at (Face, Center, Center)\n",
       "        ├── ^ at (Face, Center, Center)\n",
       "        │   ├── 512×512×1 Field{Face, Center, Center} on RectilinearGrid on GPU\n",
       "        │   └── 2\n",
       "        └── ^ at (Center, Face, Center)\n",
       "            ├── 512×512×1 Field{Center, Face, Center} on RectilinearGrid on GPU\n",
       "            └── 2"
      ]
     },
     "metadata": {},
     "output_type": "display_data"
    }
   ],
   "source": [
    "s = sqrt(u^2 + v^2)"
   ]
  },
  {
   "cell_type": "code",
   "execution_count": 20,
   "metadata": {},
   "outputs": [
    {
     "data": {
      "text/plain": [
       "JLD2OutputWriter scheduled on TimeInterval(600 ms):\n",
       "├── filepath: .\\two_dimensional_turbulence.jld2\n",
       "├── 2 outputs: (ω, s)\n",
       "├── array type: Array{Float64}\n",
       "├── including: [:grid, :coriolis, :buoyancy, :closure]\n",
       "├── file_splitting: NoFileSplitting\n",
       "└── file size: 39.1 KiB"
      ]
     },
     "metadata": {},
     "output_type": "display_data"
    }
   ],
   "source": [
    "filename = \"two_dimensional_turbulence\"\n",
    "\n",
    "simulation.output_writers[:fields] = JLD2OutputWriter(model, (; ω, s),\n",
    "                                                      schedule = TimeInterval(0.6),\n",
    "                                                      filename = filename * \".jld2\",\n",
    "                                                      overwrite_existing = true)"
   ]
  },
  {
   "cell_type": "code",
   "execution_count": 21,
   "metadata": {},
   "outputs": [
    {
     "name": "stderr",
     "output_type": "stream",
     "text": [
      "┌ Info: Initializing simulation...\n",
      "└ @ Oceananigans.Simulations C:\\Users\\dadoi\\.julia\\packages\\Oceananigans\\OHYQj\\src\\Simulations\\run.jl:184\n",
      "┌ Info: Iteration: 0000, time: 0.000, Δt: 2.00e-01, max(|u|) = 0.0e+00, wall time: 0 seconds\n",
      "└ @ Main c:\\Users\\dadoi\\DataspellProjects\\VS Code\\Julia-Weather-Simulations\\jl_notebook_cell_df34fa98e69747e1a8f8a730347b8e2f_W3sZmlsZQ==.jl:7\n",
      "┌ Info:     ... simulation initialization complete (3.541 seconds)\n",
      "└ @ Oceananigans.Simulations C:\\Users\\dadoi\\.julia\\packages\\Oceananigans\\OHYQj\\src\\Simulations\\run.jl:220\n",
      "┌ Info: Executing initial time step...\n",
      "└ @ Oceananigans.Simulations C:\\Users\\dadoi\\.julia\\packages\\Oceananigans\\OHYQj\\src\\Simulations\\run.jl:117\n",
      "┌ Info:     ... initial time step complete (3.113 seconds).\n",
      "└ @ Oceananigans.Simulations C:\\Users\\dadoi\\.julia\\packages\\Oceananigans\\OHYQj\\src\\Simulations\\run.jl:126\n",
      "┌ Info: Iteration: 0100, time: 18.000, Δt: 2.00e-01, max(|u|) = 0.0e+00, wall time: 8.009 seconds\n",
      "└ @ Main c:\\Users\\dadoi\\DataspellProjects\\VS Code\\Julia-Weather-Simulations\\jl_notebook_cell_df34fa98e69747e1a8f8a730347b8e2f_W3sZmlsZQ==.jl:7\n",
      "┌ Info: Iteration: 0200, time: 33.000, Δt: 2.00e-01, max(|u|) = 0.0e+00, wall time: 9.073 seconds\n",
      "└ @ Main c:\\Users\\dadoi\\DataspellProjects\\VS Code\\Julia-Weather-Simulations\\jl_notebook_cell_df34fa98e69747e1a8f8a730347b8e2f_W3sZmlsZQ==.jl:7\n",
      "┌ Info: Iteration: 0300, time: 48.000, Δt: 2.00e-01, max(|u|) = 0.0e+00, wall time: 10.170 seconds\n",
      "└ @ Main c:\\Users\\dadoi\\DataspellProjects\\VS Code\\Julia-Weather-Simulations\\jl_notebook_cell_df34fa98e69747e1a8f8a730347b8e2f_W3sZmlsZQ==.jl:7\n",
      "┌ Info: Iteration: 0400, time: 63.000, Δt: 2.00e-01, max(|u|) = 0.0e+00, wall time: 11.249 seconds\n",
      "└ @ Main c:\\Users\\dadoi\\DataspellProjects\\VS Code\\Julia-Weather-Simulations\\jl_notebook_cell_df34fa98e69747e1a8f8a730347b8e2f_W3sZmlsZQ==.jl:7\n",
      "┌ Info: Iteration: 0500, time: 82.800, Δt: 2.00e-01, max(|u|) = 0.0e+00, wall time: 12.461 seconds\n",
      "└ @ Main c:\\Users\\dadoi\\DataspellProjects\\VS Code\\Julia-Weather-Simulations\\jl_notebook_cell_df34fa98e69747e1a8f8a730347b8e2f_W3sZmlsZQ==.jl:7\n",
      "┌ Info: Iteration: 0600, time: 102.800, Δt: 2.00e-01, max(|u|) = 0.0e+00, wall time: 13.692 seconds\n",
      "└ @ Main c:\\Users\\dadoi\\DataspellProjects\\VS Code\\Julia-Weather-Simulations\\jl_notebook_cell_df34fa98e69747e1a8f8a730347b8e2f_W3sZmlsZQ==.jl:7\n",
      "┌ Info: Iteration: 0700, time: 122.800, Δt: 2.00e-01, max(|u|) = 0.0e+00, wall time: 14.935 seconds\n",
      "└ @ Main c:\\Users\\dadoi\\DataspellProjects\\VS Code\\Julia-Weather-Simulations\\jl_notebook_cell_df34fa98e69747e1a8f8a730347b8e2f_W3sZmlsZQ==.jl:7\n",
      "┌ Info: Iteration: 0800, time: 139.200, Δt: 2.00e-01, max(|u|) = 0.0e+00, wall time: 16.124 seconds\n",
      "└ @ Main c:\\Users\\dadoi\\DataspellProjects\\VS Code\\Julia-Weather-Simulations\\jl_notebook_cell_df34fa98e69747e1a8f8a730347b8e2f_W3sZmlsZQ==.jl:7\n",
      "┌ Info: Iteration: 0900, time: 154.200, Δt: 2.00e-01, max(|u|) = 0.0e+00, wall time: 17.271 seconds\n",
      "└ @ Main c:\\Users\\dadoi\\DataspellProjects\\VS Code\\Julia-Weather-Simulations\\jl_notebook_cell_df34fa98e69747e1a8f8a730347b8e2f_W3sZmlsZQ==.jl:7\n",
      "┌ Info: Iteration: 1000, time: 169.200, Δt: 2.00e-01, max(|u|) = 0.0e+00, wall time: 18.446 seconds\n",
      "└ @ Main c:\\Users\\dadoi\\DataspellProjects\\VS Code\\Julia-Weather-Simulations\\jl_notebook_cell_df34fa98e69747e1a8f8a730347b8e2f_W3sZmlsZQ==.jl:7\n",
      "┌ Info: Iteration: 1100, time: 184.200, Δt: 2.00e-01, max(|u|) = 0.0e+00, wall time: 19.646 seconds\n",
      "└ @ Main c:\\Users\\dadoi\\DataspellProjects\\VS Code\\Julia-Weather-Simulations\\jl_notebook_cell_df34fa98e69747e1a8f8a730347b8e2f_W3sZmlsZQ==.jl:7\n",
      "┌ Info: Iteration: 1200, time: 199.200, Δt: 2.00e-01, max(|u|) = 0.0e+00, wall time: 20.847 seconds\n",
      "└ @ Main c:\\Users\\dadoi\\DataspellProjects\\VS Code\\Julia-Weather-Simulations\\jl_notebook_cell_df34fa98e69747e1a8f8a730347b8e2f_W3sZmlsZQ==.jl:7\n",
      "┌ Info: Iteration: 1300, time: 214.200, Δt: 2.00e-01, max(|u|) = 0.0e+00, wall time: 22.066 seconds\n",
      "└ @ Main c:\\Users\\dadoi\\DataspellProjects\\VS Code\\Julia-Weather-Simulations\\jl_notebook_cell_df34fa98e69747e1a8f8a730347b8e2f_W3sZmlsZQ==.jl:7\n",
      "┌ Info: Iteration: 1400, time: 229.200, Δt: 2.00e-01, max(|u|) = 0.0e+00, wall time: 23.373 seconds\n",
      "└ @ Main c:\\Users\\dadoi\\DataspellProjects\\VS Code\\Julia-Weather-Simulations\\jl_notebook_cell_df34fa98e69747e1a8f8a730347b8e2f_W3sZmlsZQ==.jl:7\n",
      "┌ Info: Iteration: 1500, time: 244.200, Δt: 2.00e-01, max(|u|) = 0.0e+00, wall time: 24.667 seconds\n",
      "└ @ Main c:\\Users\\dadoi\\DataspellProjects\\VS Code\\Julia-Weather-Simulations\\jl_notebook_cell_df34fa98e69747e1a8f8a730347b8e2f_W3sZmlsZQ==.jl:7\n",
      "┌ Info: Iteration: 1600, time: 259.200, Δt: 2.00e-01, max(|u|) = 0.0e+00, wall time: 25.983 seconds\n",
      "└ @ Main c:\\Users\\dadoi\\DataspellProjects\\VS Code\\Julia-Weather-Simulations\\jl_notebook_cell_df34fa98e69747e1a8f8a730347b8e2f_W3sZmlsZQ==.jl:7\n",
      "┌ Info: Iteration: 1700, time: 274.200, Δt: 2.00e-01, max(|u|) = 0.0e+00, wall time: 27.293 seconds\n",
      "└ @ Main c:\\Users\\dadoi\\DataspellProjects\\VS Code\\Julia-Weather-Simulations\\jl_notebook_cell_df34fa98e69747e1a8f8a730347b8e2f_W3sZmlsZQ==.jl:7\n",
      "┌ Info: Iteration: 1800, time: 289.200, Δt: 2.00e-01, max(|u|) = 0.0e+00, wall time: 28.643 seconds\n",
      "└ @ Main c:\\Users\\dadoi\\DataspellProjects\\VS Code\\Julia-Weather-Simulations\\jl_notebook_cell_df34fa98e69747e1a8f8a730347b8e2f_W3sZmlsZQ==.jl:7\n",
      "┌ Info: Simulation is stopping after running for 29.665 seconds.\n",
      "└ @ Oceananigans.Simulations C:\\Users\\dadoi\\.julia\\packages\\Oceananigans\\OHYQj\\src\\Simulations\\simulation.jl:202\n",
      "┌ Info: Simulation time 5 minutes equals or exceeds stop time 5 minutes.\n",
      "└ @ Oceananigans.Simulations C:\\Users\\dadoi\\.julia\\packages\\Oceananigans\\OHYQj\\src\\Simulations\\simulation.jl:203\n"
     ]
    }
   ],
   "source": [
    "run!(simulation)"
   ]
  },
  {
   "cell_type": "code",
   "execution_count": 30,
   "metadata": {},
   "outputs": [
    {
     "data": {
      "text/plain": [
       "([-4.831724962104904e-19, 0.01227184630308513, 0.02454369260617026, 0.03681553890925539, 0.04908738521234052, 0.06135923151542565, 0.07363107781851078, 0.0859029241215959, 0.09817477042468103, 0.11044661672776616  …  6.1604668441487345, 6.17273869045182, 6.1850105367549055, 6.19728238305799, 6.209554229361076, 6.22182607566416, 6.234097921967246, 6.2463697682703305, 6.258641614573416, 6.270913460876501], [0.006135923151542563, 0.01840776945462769, 0.03067961575771282, 0.042951462060797946, 0.055223308363883075, 0.0674951546669682, 0.07976700097005333, 0.09203884727313846, 0.10431069357622359, 0.11658253987930872  …  6.166602767300277, 6.178874613603362, 6.191146459906448, 6.2034183062095325, 6.215690152512618, 6.227961998815703, 6.240233845118788, 6.252505691421873, 6.264777537724958, 6.277049384028043], StepRangeLen(1.0, 0.0, 1))"
      ]
     },
     "metadata": {},
     "output_type": "display_data"
    }
   ],
   "source": [
    "ω_timeseries = FieldTimeSeries(filename * \".jld2\", \"ω\")\n",
    "s_timeseries = FieldTimeSeries(filename * \".jld2\", \"s\")\n",
    "\n",
    "times = ω_timeseries.times\n",
    "xω, yω, zω = nodes(ω_timeseries)\n",
    "xs, ys, zs = nodes(s_timeseries)"
   ]
  },
  {
   "cell_type": "code",
   "execution_count": 33,
   "metadata": {},
   "outputs": [
    {
     "data": {
      "text/plain": [
       "Axis with 0 plots:\n"
      ]
     },
     "metadata": {},
     "output_type": "display_data"
    }
   ],
   "source": [
    "using CairoMakie\n",
    "set_theme!(Theme(fontsize = 24))\n",
    "\n",
    "fig = Figure(size = (800, 500))\n",
    "\n",
    "axis_kwargs = (xlabel = \"x\",\n",
    "               ylabel = \"y\",\n",
    "               limits = ((0, 2π), (0, 2π)),\n",
    "               aspect = AxisAspect(1))\n",
    "\n",
    "ax_ω = Axis(fig[2, 1]; title = \"Vorticity\", axis_kwargs...)\n",
    "ax_s = Axis(fig[2, 2]; title = \"Speed\", axis_kwargs...)"
   ]
  },
  {
   "cell_type": "code",
   "execution_count": 32,
   "metadata": {},
   "outputs": [
    {
     "ename": "ArgumentError",
     "evalue": "ArgumentError:     Conversion failed for Heatmap (With conversion trait CellGrid()) with args: Tuple{Field{Face, Face, Center, Nothing, RectilinearGrid{Float64, Periodic, Periodic, Flat, Float64, Float64, Float64, OffsetArrays.OffsetVector{Float64, StepRangeLen{Float64, Base.TwicePrecision{Float64}, Base.TwicePrecision{Float64}, Int64}}, OffsetArrays.OffsetVector{Float64, StepRangeLen{Float64, Base.TwicePrecision{Float64}, Base.TwicePrecision{Float64}, Int64}}, StepRangeLen{Float64, Base.TwicePrecision{Float64}, Base.TwicePrecision{Float64}, Int64}, CPU}, Tuple{UnitRange{Int64}, UnitRange{Int64}, UnitRange{Int64}}, OffsetArrays.OffsetArray{Float64, 3, SubArray{Float64, 3, Array{Float64, 4}, Tuple{Base.Slice{Base.OneTo{Int64}}, Base.Slice{Base.OneTo{Int64}}, Base.Slice{Base.OneTo{Int64}}, Int64}, true}}, Float64, FieldBoundaryConditions{Nothing, Nothing, Nothing, Nothing, Nothing, Nothing, BoundaryCondition{Oceananigans.BoundaryConditions.Flux, Nothing}}, Nothing, Oceananigans.Fields.FieldBoundaryBuffers{Nothing, Nothing, Nothing, Nothing, Nothing, Nothing, Nothing, Nothing}}} .\n    Heatmap requires to convert to argument types Tuple{AbstractVector{T} where T<:Real, AbstractVector{T} where T<:Real, AbstractMatrix{<:Union{Float32, Float64, ColorTypes.Colorant}}}, which convert_arguments didn't succeed in.\n    To fix this overload convert_arguments(P, args...) for Heatmap or CellGrid() and return an object of type Tuple{AbstractVector{T} where T<:Real, AbstractVector{T} where T<:Real, AbstractMatrix{<:Union{Float32, Float64, ColorTypes.Colorant}}}.`\n",
     "output_type": "error",
     "traceback": [
      "ArgumentError:     Conversion failed for Heatmap (With conversion trait CellGrid()) with args: Tuple{Field{Face, Face, Center, Nothing, RectilinearGrid{Float64, Periodic, Periodic, Flat, Float64, Float64, Float64, OffsetArrays.OffsetVector{Float64, StepRangeLen{Float64, Base.TwicePrecision{Float64}, Base.TwicePrecision{Float64}, Int64}}, OffsetArrays.OffsetVector{Float64, StepRangeLen{Float64, Base.TwicePrecision{Float64}, Base.TwicePrecision{Float64}, Int64}}, StepRangeLen{Float64, Base.TwicePrecision{Float64}, Base.TwicePrecision{Float64}, Int64}, CPU}, Tuple{UnitRange{Int64}, UnitRange{Int64}, UnitRange{Int64}}, OffsetArrays.OffsetArray{Float64, 3, SubArray{Float64, 3, Array{Float64, 4}, Tuple{Base.Slice{Base.OneTo{Int64}}, Base.Slice{Base.OneTo{Int64}}, Base.Slice{Base.OneTo{Int64}}, Int64}, true}}, Float64, FieldBoundaryConditions{Nothing, Nothing, Nothing, Nothing, Nothing, Nothing, BoundaryCondition{Oceananigans.BoundaryConditions.Flux, Nothing}}, Nothing, Oceananigans.Fields.FieldBoundaryBuffers{Nothing, Nothing, Nothing, Nothing, Nothing, Nothing, Nothing, Nothing}}} .\n",
      "    Heatmap requires to convert to argument types Tuple{AbstractVector{T} where T<:Real, AbstractVector{T} where T<:Real, AbstractMatrix{<:Union{Float32, Float64, ColorTypes.Colorant}}}, which convert_arguments didn't succeed in.\n",
      "    To fix this overload convert_arguments(P, args...) for Heatmap or CellGrid() and return an object of type Tuple{AbstractVector{T} where T<:Real, AbstractVector{T} where T<:Real, AbstractMatrix{<:Union{Float32, Float64, ColorTypes.Colorant}}}.`\n",
      "\n",
      "\n",
      "Stacktrace:\n",
      " [1] conversion_pipeline(P::Type{Heatmap}, used_attrs::Tuple{}, args::Tuple{Field{Face, Face, Center, Nothing, RectilinearGrid{Float64, Periodic, Periodic, Flat, Float64, Float64, Float64, OffsetArrays.OffsetVector{Float64, StepRangeLen{Float64, Base.TwicePrecision{Float64}, Base.TwicePrecision{Float64}, Int64}}, OffsetArrays.OffsetVector{Float64, StepRangeLen{Float64, Base.TwicePrecision{Float64}, Base.TwicePrecision{Float64}, Int64}}, StepRangeLen{Float64, Base.TwicePrecision{Float64}, Base.TwicePrecision{Float64}, Int64}, CPU}, Tuple{UnitRange{Int64}, UnitRange{Int64}, UnitRange{Int64}}, OffsetArrays.OffsetArray{Float64, 3, SubArray{Float64, 3, Array{Float64, 4}, Tuple{Base.Slice{Base.OneTo{Int64}}, Base.Slice{Base.OneTo{Int64}}, Base.Slice{Base.OneTo{Int64}}, Int64}, true}}, Float64, FieldBoundaryConditions{Nothing, Nothing, Nothing, Nothing, Nothing, Nothing, BoundaryCondition{Oceananigans.BoundaryConditions.Flux, Nothing}}, Nothing, Oceananigans.Fields.FieldBoundaryBuffers{Nothing, Nothing, Nothing, Nothing, Nothing, Nothing, Nothing, Nothing}}}, args_obs::Tuple{Observable{Field{Face, Face, Center, Nothing, RectilinearGrid{Float64, Periodic, Periodic, Flat, Float64, Float64, Float64, OffsetArrays.OffsetVector{Float64, StepRangeLen{Float64, Base.TwicePrecision{Float64}, Base.TwicePrecision{Float64}, Int64}}, OffsetArrays.OffsetVector{Float64, StepRangeLen{Float64, Base.TwicePrecision{Float64}, Base.TwicePrecision{Float64}, Int64}}, StepRangeLen{Float64, Base.TwicePrecision{Float64}, Base.TwicePrecision{Float64}, Int64}, CPU}, Tuple{UnitRange{Int64}, UnitRange{Int64}, UnitRange{Int64}}, OffsetArrays.OffsetArray{Float64, 3, SubArray{Float64, 3, Array{Float64, 4}, Tuple{Base.Slice{Base.OneTo{Int64}}, Base.Slice{Base.OneTo{Int64}}, Base.Slice{Base.OneTo{Int64}}, Int64}, true}}, Float64, FieldBoundaryConditions{Nothing, Nothing, Nothing, Nothing, Nothing, Nothing, BoundaryCondition{Oceananigans.BoundaryConditions.Flux, Nothing}}, Nothing, Oceananigans.Fields.FieldBoundaryBuffers{Nothing, Nothing, Nothing, Nothing, Nothing, Nothing, Nothing, Nothing}}}}, user_attributes::Dict{Symbol, Any}, deregister::Vector{Observables.ObserverFunction}, recursion::Int64)\n",
      "   @ Makie C:\\Users\\dadoi\\.julia\\packages\\Makie\\We6MY\\src\\interfaces.jl:240\n",
      " [2] conversion_pipeline(P::Type{Heatmap}, used_attrs::Tuple{}, args::Tuple{Field{Face, Face, Center, Nothing, RectilinearGrid{Float64, Periodic, Periodic, Flat, Float64, Float64, Float64, OffsetArrays.OffsetVector{Float64, StepRangeLen{Float64, Base.TwicePrecision{Float64}, Base.TwicePrecision{Float64}, Int64}}, OffsetArrays.OffsetVector{Float64, StepRangeLen{Float64, Base.TwicePrecision{Float64}, Base.TwicePrecision{Float64}, Int64}}, StepRangeLen{Float64, Base.TwicePrecision{Float64}, Base.TwicePrecision{Float64}, Int64}, CPU}, Tuple{UnitRange{Int64}, UnitRange{Int64}, UnitRange{Int64}}, OffsetArrays.OffsetArray{Float64, 3, SubArray{Float64, 3, Array{Float64, 4}, Tuple{Base.Slice{Base.OneTo{Int64}}, Base.Slice{Base.OneTo{Int64}}, Base.Slice{Base.OneTo{Int64}}, Int64}, true}}, Float64, FieldBoundaryConditions{Nothing, Nothing, Nothing, Nothing, Nothing, Nothing, BoundaryCondition{Oceananigans.BoundaryConditions.Flux, Nothing}}, Nothing, Oceananigans.Fields.FieldBoundaryBuffers{Nothing, Nothing, Nothing, Nothing, Nothing, Nothing, Nothing, Nothing}}}, args_obs::Tuple{Observable{Field{Face, Face, Center, Nothing, RectilinearGrid{Float64, Periodic, Periodic, Flat, Float64, Float64, Float64, OffsetArrays.OffsetVector{Float64, StepRangeLen{Float64, Base.TwicePrecision{Float64}, Base.TwicePrecision{Float64}, Int64}}, OffsetArrays.OffsetVector{Float64, StepRangeLen{Float64, Base.TwicePrecision{Float64}, Base.TwicePrecision{Float64}, Int64}}, StepRangeLen{Float64, Base.TwicePrecision{Float64}, Base.TwicePrecision{Float64}, Int64}, CPU}, Tuple{UnitRange{Int64}, UnitRange{Int64}, UnitRange{Int64}}, OffsetArrays.OffsetArray{Float64, 3, SubArray{Float64, 3, Array{Float64, 4}, Tuple{Base.Slice{Base.OneTo{Int64}}, Base.Slice{Base.OneTo{Int64}}, Base.Slice{Base.OneTo{Int64}}, Int64}, true}}, Float64, FieldBoundaryConditions{Nothing, Nothing, Nothing, Nothing, Nothing, Nothing, BoundaryCondition{Oceananigans.BoundaryConditions.Flux, Nothing}}, Nothing, Oceananigans.Fields.FieldBoundaryBuffers{Nothing, Nothing, Nothing, Nothing, Nothing, Nothing, Nothing, Nothing}}}}, user_attributes::Dict{Symbol, Any}, deregister::Vector{Observables.ObserverFunction}, recursion::Int64)\n",
      "   @ Makie C:\\Users\\dadoi\\.julia\\packages\\Makie\\We6MY\\src\\interfaces.jl:233\n",
      " [3] conversion_pipeline(P::Type{Heatmap}, used_attrs::Tuple{}, args::Tuple{Field{Face, Face, Center, Nothing, RectilinearGrid{Float64, Periodic, Periodic, Flat, Float64, Float64, Float64, OffsetArrays.OffsetVector{Float64, StepRangeLen{Float64, Base.TwicePrecision{Float64}, Base.TwicePrecision{Float64}, Int64}}, OffsetArrays.OffsetVector{Float64, StepRangeLen{Float64, Base.TwicePrecision{Float64}, Base.TwicePrecision{Float64}, Int64}}, StepRangeLen{Float64, Base.TwicePrecision{Float64}, Base.TwicePrecision{Float64}, Int64}, CPU}, Tuple{UnitRange{Int64}, UnitRange{Int64}, UnitRange{Int64}}, OffsetArrays.OffsetArray{Float64, 3, SubArray{Float64, 3, Array{Float64, 4}, Tuple{Base.Slice{Base.OneTo{Int64}}, Base.Slice{Base.OneTo{Int64}}, Base.Slice{Base.OneTo{Int64}}, Int64}, true}}, Float64, FieldBoundaryConditions{Nothing, Nothing, Nothing, Nothing, Nothing, Nothing, BoundaryCondition{Oceananigans.BoundaryConditions.Flux, Nothing}}, Nothing, Oceananigans.Fields.FieldBoundaryBuffers{Nothing, Nothing, Nothing, Nothing, Nothing, Nothing, Nothing, Nothing}}}, args_obs::Tuple{Observable{Field{Face, Face, Center, Nothing, RectilinearGrid{Float64, Periodic, Periodic, Flat, Float64, Float64, Float64, OffsetArrays.OffsetVector{Float64, StepRangeLen{Float64, Base.TwicePrecision{Float64}, Base.TwicePrecision{Float64}, Int64}}, OffsetArrays.OffsetVector{Float64, StepRangeLen{Float64, Base.TwicePrecision{Float64}, Base.TwicePrecision{Float64}, Int64}}, StepRangeLen{Float64, Base.TwicePrecision{Float64}, Base.TwicePrecision{Float64}, Int64}, CPU}, Tuple{UnitRange{Int64}, UnitRange{Int64}, UnitRange{Int64}}, OffsetArrays.OffsetArray{Float64, 3, SubArray{Float64, 3, Array{Float64, 4}, Tuple{Base.Slice{Base.OneTo{Int64}}, Base.Slice{Base.OneTo{Int64}}, Base.Slice{Base.OneTo{Int64}}, Int64}, true}}, Float64, FieldBoundaryConditions{Nothing, Nothing, Nothing, Nothing, Nothing, Nothing, BoundaryCondition{Oceananigans.BoundaryConditions.Flux, Nothing}}, Nothing, Oceananigans.Fields.FieldBoundaryBuffers{Nothing, Nothing, Nothing, Nothing, Nothing, Nothing, Nothing, Nothing}}}}, user_attributes::Dict{Symbol, Any}, deregister::Vector{Observables.ObserverFunction})\n",
      "   @ Makie C:\\Users\\dadoi\\.julia\\packages\\Makie\\We6MY\\src\\interfaces.jl:213\n",
      " [4] (Heatmap)(user_args::Tuple{Observable{Field{Face, Face, Center, Nothing, RectilinearGrid{Float64, Periodic, Periodic, Flat, Float64, Float64, Float64, OffsetArrays.OffsetVector{Float64, StepRangeLen{Float64, Base.TwicePrecision{Float64}, Base.TwicePrecision{Float64}, Int64}}, OffsetArrays.OffsetVector{Float64, StepRangeLen{Float64, Base.TwicePrecision{Float64}, Base.TwicePrecision{Float64}, Int64}}, StepRangeLen{Float64, Base.TwicePrecision{Float64}, Base.TwicePrecision{Float64}, Int64}, CPU}, Tuple{UnitRange{Int64}, UnitRange{Int64}, UnitRange{Int64}}, OffsetArrays.OffsetArray{Float64, 3, SubArray{Float64, 3, Array{Float64, 4}, Tuple{Base.Slice{Base.OneTo{Int64}}, Base.Slice{Base.OneTo{Int64}}, Base.Slice{Base.OneTo{Int64}}, Int64}, true}}, Float64, FieldBoundaryConditions{Nothing, Nothing, Nothing, Nothing, Nothing, Nothing, BoundaryCondition{Oceananigans.BoundaryConditions.Flux, Nothing}}, Nothing, Oceananigans.Fields.FieldBoundaryBuffers{Nothing, Nothing, Nothing, Nothing, Nothing, Nothing, Nothing, Nothing}}}}, user_attributes::Dict{Symbol, Any})\n",
      "   @ Makie C:\\Users\\dadoi\\.julia\\packages\\Makie\\We6MY\\src\\interfaces.jl:271\n",
      " [5] _create_plot!(::Function, ::Dict{Symbol, Any}, ::Axis, ::Observable{Field{Face, Face, Center, Nothing, RectilinearGrid{Float64, Periodic, Periodic, Flat, Float64, Float64, Float64, OffsetArrays.OffsetVector{Float64, StepRangeLen{Float64, Base.TwicePrecision{Float64}, Base.TwicePrecision{Float64}, Int64}}, OffsetArrays.OffsetVector{Float64, StepRangeLen{Float64, Base.TwicePrecision{Float64}, Base.TwicePrecision{Float64}, Int64}}, StepRangeLen{Float64, Base.TwicePrecision{Float64}, Base.TwicePrecision{Float64}, Int64}, CPU}, Tuple{UnitRange{Int64}, UnitRange{Int64}, UnitRange{Int64}}, OffsetArrays.OffsetArray{Float64, 3, SubArray{Float64, 3, Array{Float64, 4}, Tuple{Base.Slice{Base.OneTo{Int64}}, Base.Slice{Base.OneTo{Int64}}, Base.Slice{Base.OneTo{Int64}}, Int64}, true}}, Float64, FieldBoundaryConditions{Nothing, Nothing, Nothing, Nothing, Nothing, Nothing, BoundaryCondition{Oceananigans.BoundaryConditions.Flux, Nothing}}, Nothing, Oceananigans.Fields.FieldBoundaryBuffers{Nothing, Nothing, Nothing, Nothing, Nothing, Nothing, Nothing, Nothing}}})\n",
      "   @ Makie C:\\Users\\dadoi\\.julia\\packages\\Makie\\We6MY\\src\\figureplotting.jl:377\n",
      " [6] heatmap!(::Axis, ::Vararg{Any}; kw::@Kwargs{colormap::Symbol, colorrange::Tuple{Int64, Int64}})\n",
      "   @ MakieCore C:\\Users\\dadoi\\.julia\\packages\\MakieCore\\8S3xT\\src\\recipes.jl:440\n",
      " [7] top-level scope\n",
      "   @ c:\\Users\\dadoi\\DataspellProjects\\VS Code\\Julia-Weather-Simulations\\jl_notebook_cell_df34fa98e69747e1a8f8a730347b8e2f_X14sZmlsZQ==.jl:6"
     ]
    }
   ],
   "source": [
    "n = Observable(1)\n",
    "\n",
    "ω = @lift ω_timeseries[$n]\n",
    "s = @lift s_timeseries[$n]\n",
    "\n",
    "heatmap!(ax_ω, ω; colormap = :balance, colorrange = (-2, 2))\n",
    "heatmap!(ax_s, s; colormap = :speed, colorrange = (0, 0.2))\n",
    "\n",
    "title = @lift \"t = \" * string(round(times[$n], digits=2))\n",
    "Label(fig[1, 1:2], title, fontsize=24, tellwidth=false)\n",
    "\n",
    "fig"
   ]
  },
  {
   "cell_type": "code",
   "execution_count": 25,
   "metadata": {},
   "outputs": [
    {
     "name": "stderr",
     "output_type": "stream",
     "text": [
      "┌ Info: Making a neat animation of vorticity and speed...\n",
      "└ @ Main c:\\Users\\dadoi\\DataspellProjects\\VS Code\\Julia-Weather-Simulations\\jl_notebook_cell_df34fa98e69747e1a8f8a730347b8e2f_X15sZmlsZQ==.jl:3\n"
     ]
    },
    {
     "data": {
      "text/plain": [
       "\"two_dimensional_turbulence.mp4\""
      ]
     },
     "metadata": {},
     "output_type": "display_data"
    }
   ],
   "source": [
    "frames = 1:length(times)\n",
    "\n",
    "@info \"Making a neat animation of vorticity and speed...\"\n",
    "\n",
    "record(fig, filename * \".mp4\", frames, framerate=60) do i\n",
    "    n[] = i\n",
    "end"
   ]
  },
  {
   "cell_type": "code",
   "execution_count": 26,
   "metadata": {},
   "outputs": [],
   "source": []
  }
 ],
 "metadata": {
  "kernelspec": {
   "display_name": "Julia 1.10.3",
   "language": "julia",
   "name": "julia-1.10"
  },
  "language_info": {
   "file_extension": ".jl",
   "mimetype": "application/julia",
   "name": "julia",
   "version": "1.10.3"
  }
 },
 "nbformat": 4,
 "nbformat_minor": 2
}
