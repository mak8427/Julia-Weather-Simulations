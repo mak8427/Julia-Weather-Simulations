{
 "cells": [
  {
   "cell_type": "code",
   "execution_count": 16,
   "metadata": {},
   "outputs": [
    {
     "ename": "ArgumentError",
     "evalue": "ArgumentError: Cannot create a GPU grid. No CUDA-enabled GPU was detected!",
     "output_type": "error",
     "traceback": [
      "ArgumentError: Cannot create a GPU grid. No CUDA-enabled GPU was detected!\n",
      "\n",
      "Stacktrace:\n",
      " [1] RectilinearGrid(architecture::GPU, FT::DataType; size::Tuple{Int64, Int64}, x::Nothing, y::Nothing, z::Nothing, halo::Nothing, extent::Tuple{Float64, Float64}, topology::Tuple{DataType, DataType, DataType})\n",
      "   @ Oceananigans.Grids C:\\Users\\dadoi\\.julia\\packages\\Oceananigans\\OHYQj\\src\\Grids\\rectilinear_grid.jl:266\n",
      " [2] RectilinearGrid\n",
      "   @ C:\\Users\\dadoi\\.julia\\packages\\Oceananigans\\OHYQj\\src\\Grids\\rectilinear_grid.jl:255 [inlined]\n",
      " [3] top-level scope\n",
      "   @ c:\\Users\\dadoi\\DataspellProjects\\VS Code\\Julia-Weather-Simulations\\jl_notebook_cell_df34fa98e69747e1a8f8a730347b8e2f_W0sZmlsZQ==.jl:3"
     ]
    }
   ],
   "source": [
    "using Oceananigans\n",
    "\n",
    "grid = RectilinearGrid(GPU(), size=(128, 128), extent=(2π, 2π), topology=(Periodic, Periodic, Flat))\n",
    "\n",
    "model = NonhydrostaticModel(; grid,\n",
    "                            timestepper = :RungeKutta3,\n",
    "                            advection = UpwindBiasedFifthOrder(),\n",
    "                            closure = ScalarDiffusivity(ν=1e-5))"
   ]
  },
  {
   "cell_type": "code",
   "execution_count": 2,
   "metadata": {},
   "outputs": [
    {
     "data": {
      "text/plain": [
       "NonhydrostaticModel{CPU, RectilinearGrid}(time = 0 seconds, iteration = 0)\n",
       "├── grid: 128×128×1 RectilinearGrid{Float64, Periodic, Periodic, Flat} on CPU with 3×3×0 halo\n",
       "├── timestepper: RungeKutta3TimeStepper\n",
       "├── advection scheme: Upwind Biased reconstruction order 5\n",
       "├── tracers: ()\n",
       "├── closure: ScalarDiffusivity{ExplicitTimeDiscretization}(ν=1.0e-5)\n",
       "├── buoyancy: Nothing\n",
       "└── coriolis: Nothing"
      ]
     },
     "metadata": {},
     "output_type": "display_data"
    }
   ],
   "source": [
    "using Oceananigans\n",
    "\n",
    "grid = RectilinearGrid(size=(128, 128), extent=(2π, 2π), topology=(Periodic, Periodic, Flat))\n",
    "\n",
    "model = NonhydrostaticModel(; grid,\n",
    "                            timestepper = :RungeKutta3,\n",
    "                            advection = UpwindBiasedFifthOrder(),\n",
    "                            closure = ScalarDiffusivity(ν=1e-5))"
   ]
  },
  {
   "cell_type": "code",
   "execution_count": 3,
   "metadata": {},
   "outputs": [
    {
     "data": {
      "text/plain": [
       "Simulation of NonhydrostaticModel{CPU, RectilinearGrid}(time = 0 seconds, iteration = 0)\n",
       "├── Next time step: 200 ms\n",
       "├── Elapsed wall time: 0 seconds\n",
       "├── Wall time per iteration: NaN days\n",
       "├── Stop time: 50 seconds\n",
       "├── Stop iteration : Inf\n",
       "├── Wall time limit: Inf\n",
       "├── Callbacks: OrderedDict with 4 entries:\n",
       "│   ├── stop_time_exceeded => Callback of stop_time_exceeded on IterationInterval(1)\n",
       "│   ├── stop_iteration_exceeded => Callback of stop_iteration_exceeded on IterationInterval(1)\n",
       "│   ├── wall_time_limit_exceeded => Callback of wall_time_limit_exceeded on IterationInterval(1)\n",
       "│   └── nan_checker => Callback of NaNChecker for u on IterationInterval(100)\n",
       "├── Output writers: OrderedDict with no entries\n",
       "└── Diagnostics: OrderedDict with no entries"
      ]
     },
     "metadata": {},
     "output_type": "display_data"
    }
   ],
   "source": [
    "simulation = Simulation(model, Δt=0.2, stop_time=50)"
   ]
  },
  {
   "cell_type": "code",
   "execution_count": 4,
   "metadata": {},
   "outputs": [],
   "source": [
    "using Printf\n",
    "\n",
    "function progress_message(sim)\n",
    "    max_abs_u = maximum(abs, sim.model.velocities.u)\n",
    "    walltime = prettytime(sim.run_wall_time)\n",
    "\n",
    "    return @info @sprintf(\"Iteration: %04d, time: %1.3f, Δt: %.2e, max(|u|) = %.1e, wall time: %s\\n\",\n",
    "                          iteration(sim), time(sim), sim.Δt, max_abs_u, walltime)\n",
    "end\n",
    "\n",
    "add_callback!(simulation, progress_message, IterationInterval(100))"
   ]
  },
  {
   "cell_type": "code",
   "execution_count": 5,
   "metadata": {},
   "outputs": [
    {
     "data": {
      "text/plain": [
       "NamedTuple with 3 Fields on 128×128×1 RectilinearGrid{Float64, Periodic, Periodic, Flat} on CPU with 3×3×0 halo:\n",
       "├── u: 128×128×1 Field{Face, Center, Center} on RectilinearGrid on CPU\n",
       "├── v: 128×128×1 Field{Center, Face, Center} on RectilinearGrid on CPU\n",
       "└── w: 128×128×1 Field{Center, Center, Face} on RectilinearGrid on CPU"
      ]
     },
     "metadata": {},
     "output_type": "display_data"
    }
   ],
   "source": [
    "u, v, w = model.velocities"
   ]
  },
  {
   "cell_type": "code",
   "execution_count": 6,
   "metadata": {},
   "outputs": [
    {
     "data": {
      "text/plain": [
       "BinaryOperation at (Face, Face, Center)\n",
       "├── grid: 128×128×1 RectilinearGrid{Float64, Periodic, Periodic, Flat} on CPU with 3×3×0 halo\n",
       "└── tree: \n",
       "    - at (Face, Face, Center)\n",
       "    ├── ∂xᶠᶠᶜ at (Face, Face, Center) via identity\n",
       "    │   └── 128×128×1 Field{Center, Face, Center} on RectilinearGrid on CPU\n",
       "    └── ∂yᶠᶠᶜ at (Face, Face, Center) via identity\n",
       "        └── 128×128×1 Field{Face, Center, Center} on RectilinearGrid on CPU"
      ]
     },
     "metadata": {},
     "output_type": "display_data"
    }
   ],
   "source": [
    "ω = ∂x(v) - ∂y(u)"
   ]
  },
  {
   "cell_type": "code",
   "execution_count": 7,
   "metadata": {},
   "outputs": [
    {
     "data": {
      "text/plain": [
       "UnaryOperation at (Face, Center, Center)\n",
       "├── grid: 128×128×1 RectilinearGrid{Float64, Periodic, Periodic, Flat} on CPU with 3×3×0 halo\n",
       "└── tree: \n",
       "    sqrt at (Face, Center, Center) via identity\n",
       "    └── + at (Face, Center, Center)\n",
       "        ├── ^ at (Face, Center, Center)\n",
       "        │   ├── 128×128×1 Field{Face, Center, Center} on RectilinearGrid on CPU\n",
       "        │   └── 2\n",
       "        └── ^ at (Center, Face, Center)\n",
       "            ├── 128×128×1 Field{Center, Face, Center} on RectilinearGrid on CPU\n",
       "            └── 2"
      ]
     },
     "metadata": {},
     "output_type": "display_data"
    }
   ],
   "source": [
    "s = sqrt(u^2 + v^2)"
   ]
  },
  {
   "cell_type": "code",
   "execution_count": 8,
   "metadata": {},
   "outputs": [
    {
     "data": {
      "text/plain": [
       "JLD2OutputWriter scheduled on TimeInterval(600 ms):\n",
       "├── filepath: .\\two_dimensional_turbulence.jld2\n",
       "├── 2 outputs: (ω, s)\n",
       "├── array type: Array{Float64}\n",
       "├── including: [:grid, :coriolis, :buoyancy, :closure]\n",
       "├── file_splitting: NoFileSplitting\n",
       "└── file size: 27.1 KiB"
      ]
     },
     "metadata": {},
     "output_type": "display_data"
    }
   ],
   "source": [
    "filename = \"two_dimensional_turbulence\"\n",
    "\n",
    "simulation.output_writers[:fields] = JLD2OutputWriter(model, (; ω, s),\n",
    "                                                      schedule = TimeInterval(0.6),\n",
    "                                                      filename = filename * \".jld2\",\n",
    "                                                      overwrite_existing = true)"
   ]
  },
  {
   "cell_type": "code",
   "execution_count": 9,
   "metadata": {},
   "outputs": [
    {
     "name": "stderr",
     "output_type": "stream",
     "text": [
      "┌ Info: Initializing simulation...\n",
      "└ @ Oceananigans.Simulations C:\\Users\\dadoi\\.julia\\packages\\Oceananigans\\OHYQj\\src\\Simulations\\run.jl:184\n",
      "┌ Info: Iteration: 0000, time: 0.000, Δt: 2.00e-01, max(|u|) = 0.0e+00, wall time: 0 seconds\n",
      "└ @ Main c:\\Users\\dadoi\\DataspellProjects\\VS Code\\Julia-Weather-Simulations\\jl_notebook_cell_df34fa98e69747e1a8f8a730347b8e2f_W3sZmlsZQ==.jl:7\n",
      "┌ Info:     ... simulation initialization complete (7.854 seconds)\n",
      "└ @ Oceananigans.Simulations C:\\Users\\dadoi\\.julia\\packages\\Oceananigans\\OHYQj\\src\\Simulations\\run.jl:220\n",
      "┌ Info: Executing initial time step...\n",
      "└ @ Oceananigans.Simulations C:\\Users\\dadoi\\.julia\\packages\\Oceananigans\\OHYQj\\src\\Simulations\\run.jl:117\n",
      "┌ Info:     ... initial time step complete (7.640 seconds).\n",
      "└ @ Oceananigans.Simulations C:\\Users\\dadoi\\.julia\\packages\\Oceananigans\\OHYQj\\src\\Simulations\\run.jl:126\n",
      "┌ Info: Iteration: 0100, time: 18.000, Δt: 2.00e-01, max(|u|) = 0.0e+00, wall time: 16.700 seconds\n",
      "└ @ Main c:\\Users\\dadoi\\DataspellProjects\\VS Code\\Julia-Weather-Simulations\\jl_notebook_cell_df34fa98e69747e1a8f8a730347b8e2f_W3sZmlsZQ==.jl:7\n",
      "┌ Info: Iteration: 0200, time: 33.000, Δt: 2.00e-01, max(|u|) = 0.0e+00, wall time: 17.610 seconds\n",
      "└ @ Main c:\\Users\\dadoi\\DataspellProjects\\VS Code\\Julia-Weather-Simulations\\jl_notebook_cell_df34fa98e69747e1a8f8a730347b8e2f_W3sZmlsZQ==.jl:7\n",
      "┌ Info: Iteration: 0300, time: 48.000, Δt: 2.00e-01, max(|u|) = 0.0e+00, wall time: 18.460 seconds\n",
      "└ @ Main c:\\Users\\dadoi\\DataspellProjects\\VS Code\\Julia-Weather-Simulations\\jl_notebook_cell_df34fa98e69747e1a8f8a730347b8e2f_W3sZmlsZQ==.jl:7\n",
      "┌ Info: Simulation is stopping after running for 18.569 seconds.\n",
      "└ @ Oceananigans.Simulations C:\\Users\\dadoi\\.julia\\packages\\Oceananigans\\OHYQj\\src\\Simulations\\simulation.jl:202\n",
      "┌ Info: Simulation time 50 seconds equals or exceeds stop time 50 seconds.\n",
      "└ @ Oceananigans.Simulations C:\\Users\\dadoi\\.julia\\packages\\Oceananigans\\OHYQj\\src\\Simulations\\simulation.jl:203\n"
     ]
    }
   ],
   "source": [
    "run!(simulation)"
   ]
  },
  {
   "cell_type": "code",
   "execution_count": 10,
   "metadata": {},
   "outputs": [
    {
     "data": {
      "text/plain": [
       "0.0:0.6000000000000009:49.800000000000075"
      ]
     },
     "metadata": {},
     "output_type": "display_data"
    }
   ],
   "source": [
    "ω_timeseries = FieldTimeSeries(filename * \".jld2\", \"ω\")\n",
    "s_timeseries = FieldTimeSeries(filename * \".jld2\", \"s\")\n",
    "\n",
    "times = ω_timeseries.times"
   ]
  },
  {
   "cell_type": "code",
   "execution_count": 11,
   "metadata": {},
   "outputs": [
    {
     "data": {
      "text/plain": [
       "Axis with 0 plots:\n"
      ]
     },
     "metadata": {},
     "output_type": "display_data"
    }
   ],
   "source": [
    "using CairoMakie\n",
    "set_theme!(Theme(fontsize = 24))\n",
    "\n",
    "fig = Figure(size = (800, 500))\n",
    "\n",
    "axis_kwargs = (xlabel = \"x\",\n",
    "               ylabel = \"y\",\n",
    "               limits = ((0, 2π), (0, 2π)),\n",
    "               aspect = AxisAspect(1))\n",
    "\n",
    "ax_ω = Axis(fig[2, 1]; title = \"Vorticity\", axis_kwargs...)\n",
    "ax_s = Axis(fig[2, 2]; title = \"Speed\", axis_kwargs...)"
   ]
  },
  {
   "cell_type": "code",
   "execution_count": 14,
   "metadata": {},
   "outputs": [
    {
     "ename": "ArgumentError",
     "evalue": "ArgumentError:     Conversion failed for Heatmap (With conversion trait CellGrid()) with args: Tuple{Field{Face, Face, Center, Nothing, RectilinearGrid{Float64, Periodic, Periodic, Flat, Float64, Float64, Float64, OffsetArrays.OffsetVector{Float64, StepRangeLen{Float64, Base.TwicePrecision{Float64}, Base.TwicePrecision{Float64}, Int64}}, OffsetArrays.OffsetVector{Float64, StepRangeLen{Float64, Base.TwicePrecision{Float64}, Base.TwicePrecision{Float64}, Int64}}, StepRangeLen{Float64, Base.TwicePrecision{Float64}, Base.TwicePrecision{Float64}, Int64}, CPU}, Tuple{UnitRange{Int64}, UnitRange{Int64}, UnitRange{Int64}}, OffsetArrays.OffsetArray{Float64, 3, SubArray{Float64, 3, Array{Float64, 4}, Tuple{Base.Slice{Base.OneTo{Int64}}, Base.Slice{Base.OneTo{Int64}}, Base.Slice{Base.OneTo{Int64}}, Int64}, true}}, Float64, FieldBoundaryConditions{Nothing, Nothing, Nothing, Nothing, Nothing, Nothing, BoundaryCondition{Oceananigans.BoundaryConditions.Flux, Nothing}}, Nothing, Oceananigans.Fields.FieldBoundaryBuffers{Nothing, Nothing, Nothing, Nothing, Nothing, Nothing, Nothing, Nothing}}} .\n    Heatmap requires to convert to argument types Tuple{AbstractVector{T} where T<:Real, AbstractVector{T} where T<:Real, AbstractMatrix{<:Union{Float32, Float64, ColorTypes.Colorant}}}, which convert_arguments didn't succeed in.\n    To fix this overload convert_arguments(P, args...) for Heatmap or CellGrid() and return an object of type Tuple{AbstractVector{T} where T<:Real, AbstractVector{T} where T<:Real, AbstractMatrix{<:Union{Float32, Float64, ColorTypes.Colorant}}}.`\n",
     "output_type": "error",
     "traceback": [
      "ArgumentError:     Conversion failed for Heatmap (With conversion trait CellGrid()) with args: Tuple{Field{Face, Face, Center, Nothing, RectilinearGrid{Float64, Periodic, Periodic, Flat, Float64, Float64, Float64, OffsetArrays.OffsetVector{Float64, StepRangeLen{Float64, Base.TwicePrecision{Float64}, Base.TwicePrecision{Float64}, Int64}}, OffsetArrays.OffsetVector{Float64, StepRangeLen{Float64, Base.TwicePrecision{Float64}, Base.TwicePrecision{Float64}, Int64}}, StepRangeLen{Float64, Base.TwicePrecision{Float64}, Base.TwicePrecision{Float64}, Int64}, CPU}, Tuple{UnitRange{Int64}, UnitRange{Int64}, UnitRange{Int64}}, OffsetArrays.OffsetArray{Float64, 3, SubArray{Float64, 3, Array{Float64, 4}, Tuple{Base.Slice{Base.OneTo{Int64}}, Base.Slice{Base.OneTo{Int64}}, Base.Slice{Base.OneTo{Int64}}, Int64}, true}}, Float64, FieldBoundaryConditions{Nothing, Nothing, Nothing, Nothing, Nothing, Nothing, BoundaryCondition{Oceananigans.BoundaryConditions.Flux, Nothing}}, Nothing, Oceananigans.Fields.FieldBoundaryBuffers{Nothing, Nothing, Nothing, Nothing, Nothing, Nothing, Nothing, Nothing}}} .\n",
      "    Heatmap requires to convert to argument types Tuple{AbstractVector{T} where T<:Real, AbstractVector{T} where T<:Real, AbstractMatrix{<:Union{Float32, Float64, ColorTypes.Colorant}}}, which convert_arguments didn't succeed in.\n",
      "    To fix this overload convert_arguments(P, args...) for Heatmap or CellGrid() and return an object of type Tuple{AbstractVector{T} where T<:Real, AbstractVector{T} where T<:Real, AbstractMatrix{<:Union{Float32, Float64, ColorTypes.Colorant}}}.`\n",
      "\n",
      "\n",
      "Stacktrace:\n",
      " [1] conversion_pipeline(P::Type{Heatmap}, used_attrs::Tuple{}, args::Tuple{Field{Face, Face, Center, Nothing, RectilinearGrid{Float64, Periodic, Periodic, Flat, Float64, Float64, Float64, OffsetArrays.OffsetVector{Float64, StepRangeLen{Float64, Base.TwicePrecision{Float64}, Base.TwicePrecision{Float64}, Int64}}, OffsetArrays.OffsetVector{Float64, StepRangeLen{Float64, Base.TwicePrecision{Float64}, Base.TwicePrecision{Float64}, Int64}}, StepRangeLen{Float64, Base.TwicePrecision{Float64}, Base.TwicePrecision{Float64}, Int64}, CPU}, Tuple{UnitRange{Int64}, UnitRange{Int64}, UnitRange{Int64}}, OffsetArrays.OffsetArray{Float64, 3, SubArray{Float64, 3, Array{Float64, 4}, Tuple{Base.Slice{Base.OneTo{Int64}}, Base.Slice{Base.OneTo{Int64}}, Base.Slice{Base.OneTo{Int64}}, Int64}, true}}, Float64, FieldBoundaryConditions{Nothing, Nothing, Nothing, Nothing, Nothing, Nothing, BoundaryCondition{Oceananigans.BoundaryConditions.Flux, Nothing}}, Nothing, Oceananigans.Fields.FieldBoundaryBuffers{Nothing, Nothing, Nothing, Nothing, Nothing, Nothing, Nothing, Nothing}}}, args_obs::Tuple{Observable{Field{Face, Face, Center, Nothing, RectilinearGrid{Float64, Periodic, Periodic, Flat, Float64, Float64, Float64, OffsetArrays.OffsetVector{Float64, StepRangeLen{Float64, Base.TwicePrecision{Float64}, Base.TwicePrecision{Float64}, Int64}}, OffsetArrays.OffsetVector{Float64, StepRangeLen{Float64, Base.TwicePrecision{Float64}, Base.TwicePrecision{Float64}, Int64}}, StepRangeLen{Float64, Base.TwicePrecision{Float64}, Base.TwicePrecision{Float64}, Int64}, CPU}, Tuple{UnitRange{Int64}, UnitRange{Int64}, UnitRange{Int64}}, OffsetArrays.OffsetArray{Float64, 3, SubArray{Float64, 3, Array{Float64, 4}, Tuple{Base.Slice{Base.OneTo{Int64}}, Base.Slice{Base.OneTo{Int64}}, Base.Slice{Base.OneTo{Int64}}, Int64}, true}}, Float64, FieldBoundaryConditions{Nothing, Nothing, Nothing, Nothing, Nothing, Nothing, BoundaryCondition{Oceananigans.BoundaryConditions.Flux, Nothing}}, Nothing, Oceananigans.Fields.FieldBoundaryBuffers{Nothing, Nothing, Nothing, Nothing, Nothing, Nothing, Nothing, Nothing}}}}, user_attributes::Dict{Symbol, Any}, deregister::Vector{Observables.ObserverFunction}, recursion::Int64)\n",
      "   @ Makie C:\\Users\\dadoi\\.julia\\packages\\Makie\\We6MY\\src\\interfaces.jl:240\n",
      " [2] conversion_pipeline(P::Type{Heatmap}, used_attrs::Tuple{}, args::Tuple{Field{Face, Face, Center, Nothing, RectilinearGrid{Float64, Periodic, Periodic, Flat, Float64, Float64, Float64, OffsetArrays.OffsetVector{Float64, StepRangeLen{Float64, Base.TwicePrecision{Float64}, Base.TwicePrecision{Float64}, Int64}}, OffsetArrays.OffsetVector{Float64, StepRangeLen{Float64, Base.TwicePrecision{Float64}, Base.TwicePrecision{Float64}, Int64}}, StepRangeLen{Float64, Base.TwicePrecision{Float64}, Base.TwicePrecision{Float64}, Int64}, CPU}, Tuple{UnitRange{Int64}, UnitRange{Int64}, UnitRange{Int64}}, OffsetArrays.OffsetArray{Float64, 3, SubArray{Float64, 3, Array{Float64, 4}, Tuple{Base.Slice{Base.OneTo{Int64}}, Base.Slice{Base.OneTo{Int64}}, Base.Slice{Base.OneTo{Int64}}, Int64}, true}}, Float64, FieldBoundaryConditions{Nothing, Nothing, Nothing, Nothing, Nothing, Nothing, BoundaryCondition{Oceananigans.BoundaryConditions.Flux, Nothing}}, Nothing, Oceananigans.Fields.FieldBoundaryBuffers{Nothing, Nothing, Nothing, Nothing, Nothing, Nothing, Nothing, Nothing}}}, args_obs::Tuple{Observable{Field{Face, Face, Center, Nothing, RectilinearGrid{Float64, Periodic, Periodic, Flat, Float64, Float64, Float64, OffsetArrays.OffsetVector{Float64, StepRangeLen{Float64, Base.TwicePrecision{Float64}, Base.TwicePrecision{Float64}, Int64}}, OffsetArrays.OffsetVector{Float64, StepRangeLen{Float64, Base.TwicePrecision{Float64}, Base.TwicePrecision{Float64}, Int64}}, StepRangeLen{Float64, Base.TwicePrecision{Float64}, Base.TwicePrecision{Float64}, Int64}, CPU}, Tuple{UnitRange{Int64}, UnitRange{Int64}, UnitRange{Int64}}, OffsetArrays.OffsetArray{Float64, 3, SubArray{Float64, 3, Array{Float64, 4}, Tuple{Base.Slice{Base.OneTo{Int64}}, Base.Slice{Base.OneTo{Int64}}, Base.Slice{Base.OneTo{Int64}}, Int64}, true}}, Float64, FieldBoundaryConditions{Nothing, Nothing, Nothing, Nothing, Nothing, Nothing, BoundaryCondition{Oceananigans.BoundaryConditions.Flux, Nothing}}, Nothing, Oceananigans.Fields.FieldBoundaryBuffers{Nothing, Nothing, Nothing, Nothing, Nothing, Nothing, Nothing, Nothing}}}}, user_attributes::Dict{Symbol, Any}, deregister::Vector{Observables.ObserverFunction}, recursion::Int64)\n",
      "   @ Makie C:\\Users\\dadoi\\.julia\\packages\\Makie\\We6MY\\src\\interfaces.jl:233\n",
      " [3] conversion_pipeline(P::Type{Heatmap}, used_attrs::Tuple{}, args::Tuple{Field{Face, Face, Center, Nothing, RectilinearGrid{Float64, Periodic, Periodic, Flat, Float64, Float64, Float64, OffsetArrays.OffsetVector{Float64, StepRangeLen{Float64, Base.TwicePrecision{Float64}, Base.TwicePrecision{Float64}, Int64}}, OffsetArrays.OffsetVector{Float64, StepRangeLen{Float64, Base.TwicePrecision{Float64}, Base.TwicePrecision{Float64}, Int64}}, StepRangeLen{Float64, Base.TwicePrecision{Float64}, Base.TwicePrecision{Float64}, Int64}, CPU}, Tuple{UnitRange{Int64}, UnitRange{Int64}, UnitRange{Int64}}, OffsetArrays.OffsetArray{Float64, 3, SubArray{Float64, 3, Array{Float64, 4}, Tuple{Base.Slice{Base.OneTo{Int64}}, Base.Slice{Base.OneTo{Int64}}, Base.Slice{Base.OneTo{Int64}}, Int64}, true}}, Float64, FieldBoundaryConditions{Nothing, Nothing, Nothing, Nothing, Nothing, Nothing, BoundaryCondition{Oceananigans.BoundaryConditions.Flux, Nothing}}, Nothing, Oceananigans.Fields.FieldBoundaryBuffers{Nothing, Nothing, Nothing, Nothing, Nothing, Nothing, Nothing, Nothing}}}, args_obs::Tuple{Observable{Field{Face, Face, Center, Nothing, RectilinearGrid{Float64, Periodic, Periodic, Flat, Float64, Float64, Float64, OffsetArrays.OffsetVector{Float64, StepRangeLen{Float64, Base.TwicePrecision{Float64}, Base.TwicePrecision{Float64}, Int64}}, OffsetArrays.OffsetVector{Float64, StepRangeLen{Float64, Base.TwicePrecision{Float64}, Base.TwicePrecision{Float64}, Int64}}, StepRangeLen{Float64, Base.TwicePrecision{Float64}, Base.TwicePrecision{Float64}, Int64}, CPU}, Tuple{UnitRange{Int64}, UnitRange{Int64}, UnitRange{Int64}}, OffsetArrays.OffsetArray{Float64, 3, SubArray{Float64, 3, Array{Float64, 4}, Tuple{Base.Slice{Base.OneTo{Int64}}, Base.Slice{Base.OneTo{Int64}}, Base.Slice{Base.OneTo{Int64}}, Int64}, true}}, Float64, FieldBoundaryConditions{Nothing, Nothing, Nothing, Nothing, Nothing, Nothing, BoundaryCondition{Oceananigans.BoundaryConditions.Flux, Nothing}}, Nothing, Oceananigans.Fields.FieldBoundaryBuffers{Nothing, Nothing, Nothing, Nothing, Nothing, Nothing, Nothing, Nothing}}}}, user_attributes::Dict{Symbol, Any}, deregister::Vector{Observables.ObserverFunction})\n",
      "   @ Makie C:\\Users\\dadoi\\.julia\\packages\\Makie\\We6MY\\src\\interfaces.jl:213\n",
      " [4] (Heatmap)(user_args::Tuple{Observable{Field{Face, Face, Center, Nothing, RectilinearGrid{Float64, Periodic, Periodic, Flat, Float64, Float64, Float64, OffsetArrays.OffsetVector{Float64, StepRangeLen{Float64, Base.TwicePrecision{Float64}, Base.TwicePrecision{Float64}, Int64}}, OffsetArrays.OffsetVector{Float64, StepRangeLen{Float64, Base.TwicePrecision{Float64}, Base.TwicePrecision{Float64}, Int64}}, StepRangeLen{Float64, Base.TwicePrecision{Float64}, Base.TwicePrecision{Float64}, Int64}, CPU}, Tuple{UnitRange{Int64}, UnitRange{Int64}, UnitRange{Int64}}, OffsetArrays.OffsetArray{Float64, 3, SubArray{Float64, 3, Array{Float64, 4}, Tuple{Base.Slice{Base.OneTo{Int64}}, Base.Slice{Base.OneTo{Int64}}, Base.Slice{Base.OneTo{Int64}}, Int64}, true}}, Float64, FieldBoundaryConditions{Nothing, Nothing, Nothing, Nothing, Nothing, Nothing, BoundaryCondition{Oceananigans.BoundaryConditions.Flux, Nothing}}, Nothing, Oceananigans.Fields.FieldBoundaryBuffers{Nothing, Nothing, Nothing, Nothing, Nothing, Nothing, Nothing, Nothing}}}}, user_attributes::Dict{Symbol, Any})\n",
      "   @ Makie C:\\Users\\dadoi\\.julia\\packages\\Makie\\We6MY\\src\\interfaces.jl:271\n",
      " [5] _create_plot!(::Function, ::Dict{Symbol, Any}, ::Axis, ::Observable{Field{Face, Face, Center, Nothing, RectilinearGrid{Float64, Periodic, Periodic, Flat, Float64, Float64, Float64, OffsetArrays.OffsetVector{Float64, StepRangeLen{Float64, Base.TwicePrecision{Float64}, Base.TwicePrecision{Float64}, Int64}}, OffsetArrays.OffsetVector{Float64, StepRangeLen{Float64, Base.TwicePrecision{Float64}, Base.TwicePrecision{Float64}, Int64}}, StepRangeLen{Float64, Base.TwicePrecision{Float64}, Base.TwicePrecision{Float64}, Int64}, CPU}, Tuple{UnitRange{Int64}, UnitRange{Int64}, UnitRange{Int64}}, OffsetArrays.OffsetArray{Float64, 3, SubArray{Float64, 3, Array{Float64, 4}, Tuple{Base.Slice{Base.OneTo{Int64}}, Base.Slice{Base.OneTo{Int64}}, Base.Slice{Base.OneTo{Int64}}, Int64}, true}}, Float64, FieldBoundaryConditions{Nothing, Nothing, Nothing, Nothing, Nothing, Nothing, BoundaryCondition{Oceananigans.BoundaryConditions.Flux, Nothing}}, Nothing, Oceananigans.Fields.FieldBoundaryBuffers{Nothing, Nothing, Nothing, Nothing, Nothing, Nothing, Nothing, Nothing}}})\n",
      "   @ Makie C:\\Users\\dadoi\\.julia\\packages\\Makie\\We6MY\\src\\figureplotting.jl:377\n",
      " [6] heatmap!(::Axis, ::Vararg{Any}; kw::@Kwargs{colormap::Symbol, colorrange::Tuple{Int64, Int64}})\n",
      "   @ MakieCore C:\\Users\\dadoi\\.julia\\packages\\MakieCore\\8S3xT\\src\\recipes.jl:440\n",
      " [7] top-level scope\n",
      "   @ c:\\Users\\dadoi\\DataspellProjects\\VS Code\\Julia-Weather-Simulations\\jl_notebook_cell_df34fa98e69747e1a8f8a730347b8e2f_X14sZmlsZQ==.jl:6"
     ]
    }
   ],
   "source": [
    "n = Observable(1)\n",
    "\n",
    "ω = @lift ω_timeseries[$n]\n",
    "s = @lift s_timeseries[$n]\n",
    "\n",
    "heatmap!(ax_ω, ω; colormap = :balance, colorrange = (-2, 2))\n",
    "heatmap!(ax_s, s; colormap = :speed, colorrange = (0, 0.2))\n",
    "\n",
    "title = @lift \"t = \" * string(round(times[$n], digits=2))\n",
    "Label(fig[1, 1:2], title, fontsize=24, tellwidth=false)\n",
    "\n",
    "fig"
   ]
  },
  {
   "cell_type": "code",
   "execution_count": 15,
   "metadata": {},
   "outputs": [
    {
     "name": "stderr",
     "output_type": "stream",
     "text": [
      "┌ Info: Making a neat animation of vorticity and speed...\n",
      "└ @ Main c:\\Users\\dadoi\\DataspellProjects\\VS Code\\Julia-Weather-Simulations\\jl_notebook_cell_df34fa98e69747e1a8f8a730347b8e2f_X15sZmlsZQ==.jl:3\n"
     ]
    },
    {
     "data": {
      "text/plain": [
       "\"two_dimensional_turbulence.mp4\""
      ]
     },
     "metadata": {},
     "output_type": "display_data"
    }
   ],
   "source": [
    "frames = 1:length(times)\n",
    "\n",
    "@info \"Making a neat animation of vorticity and speed...\"\n",
    "\n",
    "record(fig, filename * \".mp4\", frames, framerate=24) do i\n",
    "    n[] = i\n",
    "end"
   ]
  },
  {
   "cell_type": "code",
   "execution_count": null,
   "metadata": {},
   "outputs": [],
   "source": []
  }
 ],
 "metadata": {
  "kernelspec": {
   "display_name": "Julia 1.10.3",
   "language": "julia",
   "name": "julia-1.10"
  },
  "language_info": {
   "file_extension": ".jl",
   "mimetype": "application/julia",
   "name": "julia",
   "version": "1.10.3"
  }
 },
 "nbformat": 4,
 "nbformat_minor": 2
}
