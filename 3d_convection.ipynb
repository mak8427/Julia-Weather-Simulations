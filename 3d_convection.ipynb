{
 "cells": [
  {
   "cell_type": "code",
   "execution_count": null,
   "metadata": {},
   "outputs": [],
   "source": [
    "using Pkg\n",
    "Pkg.add([\"Oceananigans\", \"CairoMakie\", \"JLD2\"])\n"
   ]
  },
  {
   "cell_type": "code",
   "execution_count": 6,
   "metadata": {},
   "outputs": [
    {
     "name": "stdout",
     "output_type": "stream",
     "text": [
      "NonhydrostaticModel{GPU, RectilinearGrid}(time = 0 seconds, iteration = 0)\n",
      "├── grid: 64×64×64 RectilinearGrid{Float64, Periodic, Periodic, Periodic} on GPU with 3×3×3 halo\n",
      "├── timestepper: RungeKutta3TimeStepper\n",
      "├── advection scheme: WENO reconstruction order 5\n",
      "├── tracers: ()\n",
      "├── closure: ScalarDiffusivity{ExplicitTimeDiscretization}(ν=1.0e-5)\n",
      "├── buoyancy: Nothing\n",
      "└── coriolis: Nothing\n"
     ]
    }
   ],
   "source": [
    "using Oceananigans\n",
    "\n",
    "# Define the computational grid\n",
    "grid = RectilinearGrid(GPU(),size=(64, 64, 64), extent=(2π, 2π, 2π), topology=(Periodic, Periodic, Periodic))\n",
    "\n",
    "# Create the model with WENO advection\n",
    "model = NonhydrostaticModel(\n",
    "    grid = grid,\n",
    "    advection = WENO(order=5),             # 5th-order WENO scheme\n",
    "    closure = ScalarDiffusivity(ν=1e-5),  # Small viscosity\n",
    "    timestepper = :RungeKutta3       # 3rd-order Runge-Kutta time-stepping\n",
    ")\n",
    "\n",
    "println(model)\n"
   ]
  },
  {
   "cell_type": "code",
   "execution_count": 7,
   "metadata": {},
   "outputs": [],
   "source": [
    "using Random, Statistics\n",
    "\n",
    "# Extract velocity fields\n",
    "u, v, w = model.velocities\n",
    "\n",
    "# Generate random initial conditions\n",
    "u₀ = rand(size(u)...)\n",
    "v₀ = rand(size(v)...)\n",
    "w₀ = rand(size(w)...)\n",
    "\n",
    "# Ensure zero mean\n",
    "u₀ .-= mean(u₀)\n",
    "v₀ .-= mean(v₀)\n",
    "w₀ .-= mean(w₀)\n",
    "\n",
    "# Set the initial conditions\n",
    "set!(model, u=u₀, v=v₀, w=w₀)\n"
   ]
  },
  {
   "cell_type": "code",
   "execution_count": 8,
   "metadata": {},
   "outputs": [
    {
     "data": {
      "text/plain": [
       "Callback of progress on IterationInterval(50)"
      ]
     },
     "metadata": {},
     "output_type": "display_data"
    }
   ],
   "source": [
    "using Oceananigans.Utils: prettytime\n",
    "\n",
    "# Create the simulation object\n",
    "simulation = Simulation(model, Δt=0.1, stop_time=5)\n",
    "\n",
    "# Configure adaptive time-stepping with TimeStepWizard\n",
    "wizard = TimeStepWizard(cfl=0.4, max_Δt=0.2)\n",
    "simulation.callbacks[:wizard] = Callback(wizard, IterationInterval(10))\n",
    "\n",
    "# Progress logging\n",
    "function progress(sim)\n",
    "    @info \"Iteration $(sim.model.clock.iteration): time = $(round(sim.model.clock.time, digits=2)) s, Δt = $(round(sim.model.clock.Δt, digits=4)) s\"\n",
    "end\n",
    "\n",
    "simulation.callbacks[:logger] = Callback(progress, IterationInterval(50))\n"
   ]
  },
  {
   "cell_type": "code",
   "execution_count": 11,
   "metadata": {},
   "outputs": [],
   "source": [
    "using Printf\n",
    "\n",
    "function progress(sim)\n",
    "    max_u = maximum(abs, sim.model.velocities.u)\n",
    "    max_v = maximum(abs, sim.model.velocities.v)\n",
    "    max_w = maximum(abs, sim.model.velocities.w)\n",
    "    max_velocity = maximum([max_u, max_v, max_w])\n",
    "    @info \"Iteration $(iteration(sim)), time = $(time(sim)), Δt = $(sim.Δt), max|u| = $(max_velocity)\"\n",
    "end\n",
    "\n",
    "add_callback!(simulation, progress, IterationInterval(50))\n"
   ]
  },
  {
   "cell_type": "code",
   "execution_count": 12,
   "metadata": {},
   "outputs": [
    {
     "data": {
      "text/plain": [
       "BinaryOperation at (Face, Center, Center)\n",
       "├── grid: 64×64×64 RectilinearGrid{Float64, Periodic, Periodic, Periodic} on GPU with 3×3×3 halo\n",
       "└── tree: \n",
       "    * at (Face, Center, Center)\n",
       "    ├── 0.5\n",
       "    └── + at (Face, Center, Center)\n",
       "        ├── ^ at (Face, Center, Center)\n",
       "        │   ├── 64×64×64 Field{Face, Center, Center} on RectilinearGrid on GPU\n",
       "        │   └── 2\n",
       "        ├── ^ at (Center, Face, Center)\n",
       "        │   ├── 64×64×64 Field{Center, Face, Center} on RectilinearGrid on GPU\n",
       "        │   └── 2\n",
       "        └── ^ at (Center, Center, Face)\n",
       "            ├── 64×64×64 Field{Center, Center, Face} on RectilinearGrid on GPU\n",
       "            └── 2"
      ]
     },
     "metadata": {},
     "output_type": "display_data"
    }
   ],
   "source": [
    "using Oceananigans.Fields\n",
    "\n",
    "# Vorticity components\n",
    "ωx = ∂y(w) - ∂z(v)\n",
    "ωy = ∂z(u) - ∂x(w)\n",
    "ωz = ∂x(v) - ∂y(u)\n",
    "\n",
    "# Vorticity magnitude\n",
    "ω_mag = sqrt(ωx^2 + ωy^2 + ωz^2)\n",
    "\n",
    "# Kinetic energy density\n",
    "E = 0.5 * (u^2 + v^2 + w^2)\n"
   ]
  },
  {
   "cell_type": "code",
   "execution_count": 13,
   "metadata": {},
   "outputs": [
    {
     "data": {
      "text/plain": [
       "JLD2OutputWriter scheduled on TimeInterval(1 second):\n",
       "├── filepath: .\\3d_turbulence.jld2\n",
       "├── 2 outputs: (ω_mag, E)\n",
       "├── array type: Array{Float64}\n",
       "├── including: [:grid, :coriolis, :buoyancy, :closure]\n",
       "├── file_splitting: NoFileSplitting\n",
       "└── file size: 27.5 KiB"
      ]
     },
     "metadata": {},
     "output_type": "display_data"
    }
   ],
   "source": [
    "simulation.output_writers[:fields] = JLD2OutputWriter(model, (; ω_mag, E),\n",
    "                                                      schedule = TimeInterval(1.0),\n",
    "                                                      filename = \"3d_turbulence.jld2\",\n",
    "                                                      overwrite_existing = true)\n"
   ]
  },
  {
   "cell_type": "code",
   "execution_count": 14,
   "metadata": {},
   "outputs": [
    {
     "name": "stderr",
     "output_type": "stream",
     "text": [
      "┌ Info: Initializing simulation...\n",
      "└ @ Oceananigans.Simulations C:\\Users\\dadoi\\.julia\\packages\\Oceananigans\\M82LU\\src\\Simulations\\run.jl:184\n",
      "┌ Info: Iteration 0, time = 0.0, Δt = 0.05, max|u| = 0.9497701241605511\n",
      "└ @ Main c:\\Users\\dadoi\\DataspellProjects\\VS Code\\Julia-Weather-Simulations\\jl_notebook_cell_df34fa98e69747e1a8f8a730347b8e2f_W4sZmlsZQ==.jl:8\n",
      "┌ Info: Iteration 0, time = 0.0, Δt = 0.05, max|u| = 0.9497701241605511\n",
      "└ @ Main c:\\Users\\dadoi\\DataspellProjects\\VS Code\\Julia-Weather-Simulations\\jl_notebook_cell_df34fa98e69747e1a8f8a730347b8e2f_W4sZmlsZQ==.jl:8\n",
      "┌ Info:     ... simulation initialization complete (23.874 seconds)\n",
      "└ @ Oceananigans.Simulations C:\\Users\\dadoi\\.julia\\packages\\Oceananigans\\M82LU\\src\\Simulations\\run.jl:220\n",
      "┌ Info: Executing initial time step...\n",
      "└ @ Oceananigans.Simulations C:\\Users\\dadoi\\.julia\\packages\\Oceananigans\\M82LU\\src\\Simulations\\run.jl:117\n",
      "┌ Info:     ... initial time step complete (3.313 seconds).\n",
      "└ @ Oceananigans.Simulations C:\\Users\\dadoi\\.julia\\packages\\Oceananigans\\M82LU\\src\\Simulations\\run.jl:126\n",
      "┌ Info: Iteration 50, time = 2.7210655480329478, Δt = 0.07270744275998874, max|u| = 0.2199694040208077\n",
      "└ @ Main c:\\Users\\dadoi\\DataspellProjects\\VS Code\\Julia-Weather-Simulations\\jl_notebook_cell_df34fa98e69747e1a8f8a730347b8e2f_W4sZmlsZQ==.jl:8\n",
      "┌ Info: Iteration 50, time = 2.7210655480329478, Δt = 0.07270744275998874, max|u| = 0.2199694040208077\n",
      "└ @ Main c:\\Users\\dadoi\\DataspellProjects\\VS Code\\Julia-Weather-Simulations\\jl_notebook_cell_df34fa98e69747e1a8f8a730347b8e2f_W4sZmlsZQ==.jl:8\n",
      "┌ Info: Simulation is stopping after running for 29.537 seconds.\n",
      "└ @ Oceananigans.Simulations C:\\Users\\dadoi\\.julia\\packages\\Oceananigans\\M82LU\\src\\Simulations\\simulation.jl:202\n",
      "┌ Info: Simulation time 5 seconds equals or exceeds stop time 5 seconds.\n",
      "└ @ Oceananigans.Simulations C:\\Users\\dadoi\\.julia\\packages\\Oceananigans\\M82LU\\src\\Simulations\\simulation.jl:203\n"
     ]
    }
   ],
   "source": [
    "run!(simulation)\n"
   ]
  },
  {
   "cell_type": "code",
   "execution_count": 17,
   "metadata": {},
   "outputs": [
    {
     "name": "stdout",
     "output_type": "stream",
     "text": [
      "Loaded data at times:\n",
      "0.0:1.0:5.0\n"
     ]
    }
   ],
   "source": [
    "using Oceananigans\n",
    "\n",
    "# Load the time series\n",
    "ω_mag_timeseries = FieldTimeSeries(\"3d_turbulence.jld2\", \"ω_mag\")\n",
    "E_timeseries = FieldTimeSeries(\"3d_turbulence.jld2\", \"E\")\n",
    "\n",
    "# Access times\n",
    "times = ω_mag_timeseries.times\n",
    "\n",
    "# Now you can proceed with your analysis or visualization\n",
    "println(\"Loaded data at times:\")\n",
    "println(times)\n",
    "\n"
   ]
  },
  {
   "cell_type": "code",
   "execution_count": 32,
   "metadata": {},
   "outputs": [
    {
     "data": {
      "text/plain": [
       "64"
      ]
     },
     "metadata": {},
     "output_type": "display_data"
    }
   ],
   "source": [
    "# Obtain grid coordinates from the field\n",
    "xC, yC, zC = nodes(ω_mag_timeseries[1])\n",
    "\n",
    "# Find the index of zC closest to z = π\n",
    "z_index = findmin(abs.(zC .- π))[2]\n"
   ]
  },
  {
   "cell_type": "code",
   "execution_count": 33,
   "metadata": {},
   "outputs": [
    {
     "name": "stdout",
     "output_type": "stream",
     "text": [
      "zC: [-6.283185307179586, -6.1850105367549055, -6.086835766330224, -5.988660995905543, -5.890486225480862, -5.792311455056181, -5.6941366846315, -5.595961914206819, -5.497787143782138, -5.399612373357457, -5.301437602932776, -5.203262832508095, -5.105088062083413, -5.006913291658733, -4.908738521234052, -4.81056375080937, -4.71238898038469, -4.614214209960009, -4.516039439535327, -4.417864669110647, -4.319689898685965, -4.221515128261284, -4.123340357836604, -4.025165587411922, -3.9269908169872414, -3.8288160465625602, -3.730641276137879, -3.6324665057131984, -3.5342917352885173, -3.436116964863836, -3.337942194439155, -3.2397674240144743, -3.141592653589793, -3.043417883165112, -2.945243112740431, -2.84706834231575, -2.748893571891069, -2.650718801466388, -2.5525440310417067, -2.454369260617026, -2.356194490192345, -2.2580197197676637, -2.1598449493429825, -2.061670178918302, -1.9634954084936207, -1.8653206380689396, -1.7671458676442586, -1.6689710972195775, -1.5707963267948966, -1.4726215563702154, -1.3744467859455345, -1.2762720155208533, -1.1780972450961724, -1.0799224746714913, -0.9817477042468103, -0.8835729338221293, -0.7853981633974483, -0.6872233929727672, -0.5890486225480862, -0.4908738521234052, -0.39269908169872414, -0.2945243112740431, -0.19634954084936207, -0.09817477042468103]\n"
     ]
    }
   ],
   "source": [
    "println(\"zC: \", zC)\n"
   ]
  },
  {
   "cell_type": "code",
   "execution_count": 44,
   "metadata": {},
   "outputs": [
    {
     "data": {
      "text/plain": [
       "CairoMakie.Screen{IMAGE}\n"
      ]
     },
     "metadata": {},
     "output_type": "display_data"
    }
   ],
   "source": [
    "using CairoMakie\n",
    "\n",
    "# Select a time index to visualize\n",
    "time_index = length(times)  # Last time step\n",
    "\n",
    "# Obtain grid coordinates from the field and convert to standard arrays\n",
    "xC, yC, zC = nodes(ω_mag_timeseries[1])\n",
    "xC = collect(xC)\n",
    "yC = collect(yC)\n",
    "zC = collect(zC)\n",
    "\n",
    "# Find the index of zC closest to z = π\n",
    "z_index = findmin(abs.(zC .- π))[2]\n",
    "\n",
    "# Extract the 2D slice at z ≈ π and convert to standard array\n",
    "ω_mag_slice = ω_mag_timeseries[time_index][:, :, z_index]\n",
    "ω_mag_slice = collect(ω_mag_slice)\n",
    "\n",
    "# Create the figure with updated keyword\n",
    "fig = Figure(size = (800, 600))\n",
    "\n",
    "# Create the axis\n",
    "ax = Axis(fig[1, 1],\n",
    "          xlabel = \"x\",\n",
    "          ylabel = \"y\",\n",
    "          title = \"Vorticity Magnitude at z ≈ $(round(zC[z_index], digits=2)), time = $(round(times[time_index], digits=2))\")\n",
    "\n",
    "# Create the heatmap and capture the plot object\n",
    "heatmap_plot = heatmap!(ax, xC, yC, ω_mag_slice';\n",
    "                        colormap = :balance,\n",
    "                        colorrange = (0, maximum(ω_mag_slice)))\n",
    "\n",
    "# Add the colorbar, linking it to the heatmap plot\n",
    "Colorbar(fig[1, 2], heatmap_plot)\n",
    "\n",
    "# Display the figure\n",
    "fig\n",
    "\n",
    "# Save the figure\n",
    "save(\"vorticity_magnitude.png\", fig)\n"
   ]
  },
  {
   "cell_type": "code",
   "execution_count": 46,
   "metadata": {},
   "outputs": [],
   "source": []
  },
  {
   "cell_type": "code",
   "execution_count": null,
   "metadata": {},
   "outputs": [],
   "source": []
  }
 ],
 "metadata": {
  "kernelspec": {
   "display_name": "Julia 1.10.3",
   "language": "julia",
   "name": "julia-1.10"
  },
  "language_info": {
   "file_extension": ".jl",
   "mimetype": "application/julia",
   "name": "julia",
   "version": "1.10.3"
  }
 },
 "nbformat": 4,
 "nbformat_minor": 2
}
