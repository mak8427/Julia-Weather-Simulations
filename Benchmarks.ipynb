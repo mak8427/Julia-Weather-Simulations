{
 "cells": [
  {
   "cell_type": "code",
   "execution_count": 1,
   "metadata": {},
   "outputs": [],
   "source": [
    "using Oceananigans\n",
    "using BenchmarkTools"
   ]
  },
  {
   "cell_type": "code",
   "execution_count": 1,
   "metadata": {},
   "outputs": [],
   "source": [
    "using Oceananigans\n",
    "using Oceananigans.Units: minutes, hour, hours, day\n",
    "using CairoMakie\n",
    "using Printf\n",
    "\n",
    "# Set up the grid\n",
    "grid = RectilinearGrid(CPU(), size=(64, 64), extent=(64, 64), halo=(3, 3), topology=(Periodic, Flat, Bounded))\n",
    "\n",
    "\n",
    "# Boundary conditions\n",
    "buoyancy_flux(x, t, params) = params.initial_buoyancy_flux * exp(-t^4 / (24 * params.shut_off_time^4))\n",
    "buoyancy_flux_parameters = (initial_buoyancy_flux = 1e-8, shut_off_time = 2hours)\n",
    "buoyancy_flux_bc = FluxBoundaryCondition(buoyancy_flux, parameters = buoyancy_flux_parameters)\n",
    "\n",
    "# Define boundary conditions\n",
    "N² = 1e-4 # s⁻²\n",
    "buoyancy_gradient_bc = GradientBoundaryCondition(N²)\n",
    "buoyancy_bcs = FieldBoundaryConditions(top = buoyancy_flux_bc, bottom = buoyancy_gradient_bc)\n",
    "\n",
    "# Phytoplankton dynamics\n",
    "growing_and_grazing(x, z, t, P, params) = (params.μ₀ * exp(z / params.λ) - params.m) * P\n",
    "plankton_dynamics_parameters = (μ₀ = 1/day, λ = 5, m = 0.1/day)\n",
    "plankton_dynamics = Forcing(growing_and_grazing, field_dependencies = :P, parameters = plankton_dynamics_parameters)\n",
    "\n",
    "# Set up the model\n",
    "model = NonhydrostaticModel(\n",
    "    grid = grid,\n",
    "    advection = UpwindBiasedFifthOrder(),\n",
    "    timestepper = :RungeKutta3,\n",
    "    closure = ScalarDiffusivity(ν=1e-4, κ=1e-4),\n",
    "    coriolis = FPlane(f=1e-4),\n",
    "    tracers = (:b, :P),\n",
    "    buoyancy = BuoyancyTracer(),\n",
    "    forcing = (; P = plankton_dynamics),\n",
    "    boundary_conditions = (; b = buoyancy_bcs)\n",
    ")\n",
    "\n",
    "# Initial conditions\n",
    "mixed_layer_depth = 32 # m\n",
    "stratification(z) = z < -mixed_layer_depth ? N² * z : -N² * mixed_layer_depth\n",
    "noise(z) = 1e-4 * N² * grid.Lz * randn() * exp(z / 4)\n",
    "initial_buoyancy(x, z) = stratification(z) + noise(z)\n",
    "set!(model, b = initial_buoyancy, P = 1)\n",
    "\n",
    "# Set up the simulation\n",
    "simulation = Simulation(model, Δt = 2minutes, stop_time = 24hours)\n",
    "\n",
    "# Adaptive time stepping\n",
    "conjure_time_step_wizard!(simulation, cfl = 1.0, max_Δt = 2minutes)\n",
    "\n",
    "\n",
    "# Run the simulation\n"
   ]
  },
  {
   "cell_type": "code",
   "execution_count": 2,
   "metadata": {},
   "outputs": [
    {
     "name": "stderr",
     "output_type": "stream",
     "text": [
      "┌ Info: Initializing simulation...\n",
      "└ @ Oceananigans.Simulations C:\\Users\\dadoi\\.julia\\packages\\Oceananigans\\M82LU\\src\\Simulations\\run.jl:184\n",
      "┌ Info:     ... simulation initialization complete (3.362 seconds)\n",
      "└ @ Oceananigans.Simulations C:\\Users\\dadoi\\.julia\\packages\\Oceananigans\\M82LU\\src\\Simulations\\run.jl:220\n",
      "┌ Info: Executing initial time step...\n",
      "└ @ Oceananigans.Simulations C:\\Users\\dadoi\\.julia\\packages\\Oceananigans\\M82LU\\src\\Simulations\\run.jl:117\n",
      "┌ Info:     ... initial time step complete (6.310 seconds).\n",
      "└ @ Oceananigans.Simulations C:\\Users\\dadoi\\.julia\\packages\\Oceananigans\\M82LU\\src\\Simulations\\run.jl:126\n",
      "┌ Info: Simulation is stopping after running for 25.211 seconds.\n",
      "└ @ Oceananigans.Simulations C:\\Users\\dadoi\\.julia\\packages\\Oceananigans\\M82LU\\src\\Simulations\\simulation.jl:202\n",
      "┌ Info: Simulation time 1 day equals or exceeds stop time 1 day.\n",
      "└ @ Oceananigans.Simulations C:\\Users\\dadoi\\.julia\\packages\\Oceananigans\\M82LU\\src\\Simulations\\simulation.jl:203\n"
     ]
    }
   ],
   "source": [
    "\n",
    "run!(simulation)"
   ]
  },
  {
   "cell_type": "code",
   "execution_count": 12,
   "metadata": {},
   "outputs": [
    {
     "name": "stderr",
     "output_type": "stream",
     "text": [
      "┌ Info: Initializing simulation...\n",
      "└ @ Oceananigans.Simulations C:\\Users\\dadoi\\.julia\\packages\\Oceananigans\\M82LU\\src\\Simulations\\run.jl:184\n",
      "┌ Info:     ... simulation initialization complete (1.211 ms)\n",
      "└ @ Oceananigans.Simulations C:\\Users\\dadoi\\.julia\\packages\\Oceananigans\\M82LU\\src\\Simulations\\run.jl:220\n",
      "┌ Info: Executing initial time step...\n",
      "└ @ Oceananigans.Simulations C:\\Users\\dadoi\\.julia\\packages\\Oceananigans\\M82LU\\src\\Simulations\\run.jl:117\n",
      "┌ Info:     ... initial time step complete (5.066 seconds).\n",
      "└ @ Oceananigans.Simulations C:\\Users\\dadoi\\.julia\\packages\\Oceananigans\\M82LU\\src\\Simulations\\run.jl:126\n",
      "┌ Info: Simulation is stopping after running for 7.599 seconds.\n",
      "└ @ Oceananigans.Simulations C:\\Users\\dadoi\\.julia\\packages\\Oceananigans\\M82LU\\src\\Simulations\\simulation.jl:202\n",
      "┌ Info: Simulation time 1 day equals or exceeds stop time 1 day.\n",
      "└ @ Oceananigans.Simulations C:\\Users\\dadoi\\.julia\\packages\\Oceananigans\\M82LU\\src\\Simulations\\simulation.jl:203\n"
     ]
    }
   ],
   "source": [
    "grid_gpu1 = RectilinearGrid(GPU(), size=(16, 16), extent=(16, 16), halo=(3, 3), topology=(Periodic, Flat, Bounded))\n",
    "\n",
    "model_gpu1 = NonhydrostaticModel(\n",
    "    grid = grid_gpu1,\n",
    "    advection = UpwindBiasedFifthOrder(),\n",
    "    timestepper = :RungeKutta3,\n",
    "    closure = ScalarDiffusivity(ν=1e-4, κ=1e-4),\n",
    "    coriolis = FPlane(f=1e-4),\n",
    "    tracers = (:b, :P),\n",
    "    buoyancy = BuoyancyTracer(),\n",
    "    forcing = (; P = plankton_dynamics),\n",
    "    boundary_conditions = (; b = buoyancy_bcs)\n",
    ")\n",
    "simulation_gpu1 = Simulation(model_gpu1, Δt = 2minutes, stop_time = 24hours)\n",
    "run!(simulation_gpu1)\n"
   ]
  },
  {
   "cell_type": "code",
   "execution_count": 13,
   "metadata": {},
   "outputs": [
    {
     "name": "stderr",
     "output_type": "stream",
     "text": [
      "┌ Info: Initializing simulation...\n",
      "└ @ Oceananigans.Simulations C:\\Users\\dadoi\\.julia\\packages\\Oceananigans\\M82LU\\src\\Simulations\\run.jl:184\n",
      "┌ Info:     ... simulation initialization complete (1.016 ms)\n",
      "└ @ Oceananigans.Simulations C:\\Users\\dadoi\\.julia\\packages\\Oceananigans\\M82LU\\src\\Simulations\\run.jl:220\n",
      "┌ Info: Executing initial time step...\n",
      "└ @ Oceananigans.Simulations C:\\Users\\dadoi\\.julia\\packages\\Oceananigans\\M82LU\\src\\Simulations\\run.jl:117\n",
      "┌ Info:     ... initial time step complete (5.070 seconds).\n",
      "└ @ Oceananigans.Simulations C:\\Users\\dadoi\\.julia\\packages\\Oceananigans\\M82LU\\src\\Simulations\\run.jl:126\n",
      "┌ Info: Simulation is stopping after running for 8.001 seconds.\n",
      "└ @ Oceananigans.Simulations C:\\Users\\dadoi\\.julia\\packages\\Oceananigans\\M82LU\\src\\Simulations\\simulation.jl:202\n",
      "┌ Info: Simulation time 1 day equals or exceeds stop time 1 day.\n",
      "└ @ Oceananigans.Simulations C:\\Users\\dadoi\\.julia\\packages\\Oceananigans\\M82LU\\src\\Simulations\\simulation.jl:203\n"
     ]
    }
   ],
   "source": [
    "grid_gpu2 = RectilinearGrid(GPU(), size=(32, 32), extent=(32, 32), halo=(3, 3), topology=(Periodic, Flat, Bounded))\n",
    "\n",
    "model_gpu2 = NonhydrostaticModel(\n",
    "    grid = grid_gpu2,\n",
    "    advection = UpwindBiasedFifthOrder(),\n",
    "    timestepper = :RungeKutta3,\n",
    "    closure = ScalarDiffusivity(ν=1e-4, κ=1e-4),\n",
    "    coriolis = FPlane(f=1e-4),\n",
    "    tracers = (:b, :P),\n",
    "    buoyancy = BuoyancyTracer(),\n",
    "    forcing = (; P = plankton_dynamics),\n",
    "    boundary_conditions = (; b = buoyancy_bcs)\n",
    ")\n",
    "simulation_gpu2 = Simulation(model_gpu2, Δt = 2minutes, stop_time = 24hours)\n",
    "run!(simulation_gpu2)\n"
   ]
  },
  {
   "cell_type": "code",
   "execution_count": 14,
   "metadata": {},
   "outputs": [
    {
     "name": "stderr",
     "output_type": "stream",
     "text": [
      "┌ Info: Initializing simulation...\n",
      "└ @ Oceananigans.Simulations C:\\Users\\dadoi\\.julia\\packages\\Oceananigans\\M82LU\\src\\Simulations\\run.jl:184\n",
      "┌ Info:     ... simulation initialization complete (1.098 ms)\n",
      "└ @ Oceananigans.Simulations C:\\Users\\dadoi\\.julia\\packages\\Oceananigans\\M82LU\\src\\Simulations\\run.jl:220\n",
      "┌ Info: Executing initial time step...\n",
      "└ @ Oceananigans.Simulations C:\\Users\\dadoi\\.julia\\packages\\Oceananigans\\M82LU\\src\\Simulations\\run.jl:117\n",
      "┌ Info:     ... initial time step complete (5.019 seconds).\n",
      "└ @ Oceananigans.Simulations C:\\Users\\dadoi\\.julia\\packages\\Oceananigans\\M82LU\\src\\Simulations\\run.jl:126\n",
      "┌ Info: Simulation is stopping after running for 8.226 seconds.\n",
      "└ @ Oceananigans.Simulations C:\\Users\\dadoi\\.julia\\packages\\Oceananigans\\M82LU\\src\\Simulations\\simulation.jl:202\n",
      "┌ Info: Simulation time 1 day equals or exceeds stop time 1 day.\n",
      "└ @ Oceananigans.Simulations C:\\Users\\dadoi\\.julia\\packages\\Oceananigans\\M82LU\\src\\Simulations\\simulation.jl:203\n"
     ]
    }
   ],
   "source": [
    "grid_gpu3 = RectilinearGrid(GPU(), size=(64, 64), extent=(64, 64), halo=(3, 3), topology=(Periodic, Flat, Bounded))\n",
    "\n",
    "model_gpu3 = NonhydrostaticModel(\n",
    "    grid = grid_gpu3,\n",
    "    advection = UpwindBiasedFifthOrder(),\n",
    "    timestepper = :RungeKutta3,\n",
    "    closure = ScalarDiffusivity(ν=1e-4, κ=1e-4),\n",
    "    coriolis = FPlane(f=1e-4),\n",
    "    tracers = (:b, :P),\n",
    "    buoyancy = BuoyancyTracer(),\n",
    "    forcing = (; P = plankton_dynamics),\n",
    "    boundary_conditions = (; b = buoyancy_bcs)\n",
    ")\n",
    "simulation_gpu3 = Simulation(model_gpu3, Δt = 2minutes, stop_time = 24hours)\n",
    "run!(simulation_gpu3)\n"
   ]
  },
  {
   "cell_type": "code",
   "execution_count": 15,
   "metadata": {},
   "outputs": [
    {
     "name": "stderr",
     "output_type": "stream",
     "text": [
      "┌ Info: Initializing simulation...\n",
      "└ @ Oceananigans.Simulations C:\\Users\\dadoi\\.julia\\packages\\Oceananigans\\M82LU\\src\\Simulations\\run.jl:184\n",
      "┌ Info:     ... simulation initialization complete (1.794 ms)\n",
      "└ @ Oceananigans.Simulations C:\\Users\\dadoi\\.julia\\packages\\Oceananigans\\M82LU\\src\\Simulations\\run.jl:220\n",
      "┌ Info: Executing initial time step...\n",
      "└ @ Oceananigans.Simulations C:\\Users\\dadoi\\.julia\\packages\\Oceananigans\\M82LU\\src\\Simulations\\run.jl:117\n",
      "┌ Info:     ... initial time step complete (4.896 seconds).\n",
      "└ @ Oceananigans.Simulations C:\\Users\\dadoi\\.julia\\packages\\Oceananigans\\M82LU\\src\\Simulations\\run.jl:126\n",
      "┌ Info: Simulation is stopping after running for 7.663 seconds.\n",
      "└ @ Oceananigans.Simulations C:\\Users\\dadoi\\.julia\\packages\\Oceananigans\\M82LU\\src\\Simulations\\simulation.jl:202\n",
      "┌ Info: Simulation time 1 day equals or exceeds stop time 1 day.\n",
      "└ @ Oceananigans.Simulations C:\\Users\\dadoi\\.julia\\packages\\Oceananigans\\M82LU\\src\\Simulations\\simulation.jl:203\n"
     ]
    }
   ],
   "source": [
    "grid_gpu4 = RectilinearGrid(GPU(), size=(128, 128), extent=(128, 128), halo=(3, 3), topology=(Periodic, Flat, Bounded))\n",
    "\n",
    "model_gpu4 = NonhydrostaticModel(\n",
    "    grid = grid_gpu4,\n",
    "    advection = UpwindBiasedFifthOrder(),\n",
    "    timestepper = :RungeKutta3,\n",
    "    closure = ScalarDiffusivity(ν=1e-4, κ=1e-4),\n",
    "    coriolis = FPlane(f=1e-4),\n",
    "    tracers = (:b, :P),\n",
    "    buoyancy = BuoyancyTracer(),\n",
    "    forcing = (; P = plankton_dynamics),\n",
    "    boundary_conditions = (; b = buoyancy_bcs)\n",
    ")\n",
    "simulation_gpu4 = Simulation(model_gpu4, Δt = 2minutes, stop_time = 24hours)\n",
    "run!(simulation_gpu4)\n"
   ]
  },
  {
   "cell_type": "code",
   "execution_count": 16,
   "metadata": {},
   "outputs": [
    {
     "name": "stderr",
     "output_type": "stream",
     "text": [
      "┌ Info: Initializing simulation...\n",
      "└ @ Oceananigans.Simulations C:\\Users\\dadoi\\.julia\\packages\\Oceananigans\\M82LU\\src\\Simulations\\run.jl:184\n",
      "┌ Info:     ... simulation initialization complete (4.922 ms)\n",
      "└ @ Oceananigans.Simulations C:\\Users\\dadoi\\.julia\\packages\\Oceananigans\\M82LU\\src\\Simulations\\run.jl:220\n",
      "┌ Info: Executing initial time step...\n",
      "└ @ Oceananigans.Simulations C:\\Users\\dadoi\\.julia\\packages\\Oceananigans\\M82LU\\src\\Simulations\\run.jl:117\n",
      "┌ Info:     ... initial time step complete (4.610 seconds).\n",
      "└ @ Oceananigans.Simulations C:\\Users\\dadoi\\.julia\\packages\\Oceananigans\\M82LU\\src\\Simulations\\run.jl:126\n",
      "┌ Info: Simulation is stopping after running for 8.600 seconds.\n",
      "└ @ Oceananigans.Simulations C:\\Users\\dadoi\\.julia\\packages\\Oceananigans\\M82LU\\src\\Simulations\\simulation.jl:202\n",
      "┌ Info: Simulation time 1 day equals or exceeds stop time 1 day.\n",
      "└ @ Oceananigans.Simulations C:\\Users\\dadoi\\.julia\\packages\\Oceananigans\\M82LU\\src\\Simulations\\simulation.jl:203\n"
     ]
    }
   ],
   "source": [
    "grid_gpu5 = RectilinearGrid(GPU(), size=(256, 256), extent=(256, 256), halo=(3, 3), topology=(Periodic, Flat, Bounded))\n",
    "\n",
    "model_gpu5 = NonhydrostaticModel(\n",
    "    grid = grid_gpu5,\n",
    "    advection = UpwindBiasedFifthOrder(),\n",
    "    timestepper = :RungeKutta3,\n",
    "    closure = ScalarDiffusivity(ν=1e-4, κ=1e-4),\n",
    "    coriolis = FPlane(f=1e-4),\n",
    "    tracers = (:b, :P),\n",
    "    buoyancy = BuoyancyTracer(),\n",
    "    forcing = (; P = plankton_dynamics),\n",
    "    boundary_conditions = (; b = buoyancy_bcs)\n",
    ")\n",
    "simulation_gpu5 = Simulation(model_gpu5, Δt = 2minutes, stop_time = 24hours)\n",
    "run!(simulation_gpu5)\n"
   ]
  },
  {
   "cell_type": "code",
   "execution_count": 17,
   "metadata": {},
   "outputs": [
    {
     "name": "stderr",
     "output_type": "stream",
     "text": [
      "┌ Info: Initializing simulation...\n",
      "└ @ Oceananigans.Simulations C:\\Users\\dadoi\\.julia\\packages\\Oceananigans\\M82LU\\src\\Simulations\\run.jl:184\n",
      "┌ Info:     ... simulation initialization complete (11.405 ms)\n",
      "└ @ Oceananigans.Simulations C:\\Users\\dadoi\\.julia\\packages\\Oceananigans\\M82LU\\src\\Simulations\\run.jl:220\n",
      "┌ Info: Executing initial time step...\n",
      "└ @ Oceananigans.Simulations C:\\Users\\dadoi\\.julia\\packages\\Oceananigans\\M82LU\\src\\Simulations\\run.jl:117\n",
      "┌ Info:     ... initial time step complete (4.757 seconds).\n",
      "└ @ Oceananigans.Simulations C:\\Users\\dadoi\\.julia\\packages\\Oceananigans\\M82LU\\src\\Simulations\\run.jl:126\n",
      "┌ Info: Simulation is stopping after running for 12.623 seconds.\n",
      "└ @ Oceananigans.Simulations C:\\Users\\dadoi\\.julia\\packages\\Oceananigans\\M82LU\\src\\Simulations\\simulation.jl:202\n",
      "┌ Info: Simulation time 1 day equals or exceeds stop time 1 day.\n",
      "└ @ Oceananigans.Simulations C:\\Users\\dadoi\\.julia\\packages\\Oceananigans\\M82LU\\src\\Simulations\\simulation.jl:203\n"
     ]
    }
   ],
   "source": [
    "grid_gpu6 = RectilinearGrid(GPU(), size=(512, 512), extent=(512, 512), halo=(3, 3), topology=(Periodic, Flat, Bounded))\n",
    "\n",
    "model_gpu6 = NonhydrostaticModel(\n",
    "    grid = grid_gpu6,\n",
    "    advection = UpwindBiasedFifthOrder(),\n",
    "    timestepper = :RungeKutta3,\n",
    "    closure = ScalarDiffusivity(ν=1e-4, κ=1e-4),\n",
    "    coriolis = FPlane(f=1e-4),\n",
    "    tracers = (:b, :P),\n",
    "    buoyancy = BuoyancyTracer(),\n",
    "    forcing = (; P = plankton_dynamics),\n",
    "    boundary_conditions = (; b = buoyancy_bcs)\n",
    ")\n",
    "simulation_gpu6 = Simulation(model_gpu6, Δt = 2minutes, stop_time = 24hours)\n",
    "run!(simulation_gpu6)\n"
   ]
  },
  {
   "cell_type": "code",
   "execution_count": 18,
   "metadata": {},
   "outputs": [
    {
     "name": "stderr",
     "output_type": "stream",
     "text": [
      "┌ Info: Initializing simulation...\n",
      "└ @ Oceananigans.Simulations C:\\Users\\dadoi\\.julia\\packages\\Oceananigans\\M82LU\\src\\Simulations\\run.jl:184\n",
      "┌ Info:     ... simulation initialization complete (19.833 ms)\n",
      "└ @ Oceananigans.Simulations C:\\Users\\dadoi\\.julia\\packages\\Oceananigans\\M82LU\\src\\Simulations\\run.jl:220\n",
      "┌ Info: Executing initial time step...\n",
      "└ @ Oceananigans.Simulations C:\\Users\\dadoi\\.julia\\packages\\Oceananigans\\M82LU\\src\\Simulations\\run.jl:117\n",
      "┌ Info:     ... initial time step complete (4.458 seconds).\n",
      "└ @ Oceananigans.Simulations C:\\Users\\dadoi\\.julia\\packages\\Oceananigans\\M82LU\\src\\Simulations\\run.jl:126\n",
      "┌ Info: Simulation is stopping after running for 30.980 seconds.\n",
      "└ @ Oceananigans.Simulations C:\\Users\\dadoi\\.julia\\packages\\Oceananigans\\M82LU\\src\\Simulations\\simulation.jl:202\n",
      "┌ Info: Simulation time 1 day equals or exceeds stop time 1 day.\n",
      "└ @ Oceananigans.Simulations C:\\Users\\dadoi\\.julia\\packages\\Oceananigans\\M82LU\\src\\Simulations\\simulation.jl:203\n"
     ]
    }
   ],
   "source": [
    "grid_gpu7 = RectilinearGrid(GPU(), size=(1024, 1024), extent=(1024, 1024), halo=(3, 3), topology=(Periodic, Flat, Bounded))\n",
    "\n",
    "model_gpu7 = NonhydrostaticModel(\n",
    "    grid = grid_gpu7,\n",
    "    advection = UpwindBiasedFifthOrder(),\n",
    "    timestepper = :RungeKutta3,\n",
    "    closure = ScalarDiffusivity(ν=1e-4, κ=1e-4),\n",
    "    coriolis = FPlane(f=1e-4),\n",
    "    tracers = (:b, :P),\n",
    "    buoyancy = BuoyancyTracer(),\n",
    "    forcing = (; P = plankton_dynamics),\n",
    "    boundary_conditions = (; b = buoyancy_bcs)\n",
    ")\n",
    "simulation_gpu7 = Simulation(model_gpu7, Δt = 2minutes, stop_time = 24hours)\n",
    "run!(simulation_gpu7)\n"
   ]
  },
  {
   "cell_type": "code",
   "execution_count": 20,
   "metadata": {},
   "outputs": [
    {
     "name": "stderr",
     "output_type": "stream",
     "text": [
      "┌ Info: Initializing simulation...\n",
      "└ @ Oceananigans.Simulations C:\\Users\\dadoi\\.julia\\packages\\Oceananigans\\M82LU\\src\\Simulations\\run.jl:184\n",
      "┌ Info:     ... simulation initialization complete (71.825 ms)\n",
      "└ @ Oceananigans.Simulations C:\\Users\\dadoi\\.julia\\packages\\Oceananigans\\M82LU\\src\\Simulations\\run.jl:220\n",
      "┌ Info: Executing initial time step...\n",
      "└ @ Oceananigans.Simulations C:\\Users\\dadoi\\.julia\\packages\\Oceananigans\\M82LU\\src\\Simulations\\run.jl:117\n",
      "┌ Info:     ... initial time step complete (228.210 ms).\n",
      "└ @ Oceananigans.Simulations C:\\Users\\dadoi\\.julia\\packages\\Oceananigans\\M82LU\\src\\Simulations\\run.jl:126\n",
      "┌ Info: Simulation is stopping after running for 1.881 minutes.\n",
      "└ @ Oceananigans.Simulations C:\\Users\\dadoi\\.julia\\packages\\Oceananigans\\M82LU\\src\\Simulations\\simulation.jl:202\n",
      "┌ Info: Simulation time 1 day equals or exceeds stop time 1 day.\n",
      "└ @ Oceananigans.Simulations C:\\Users\\dadoi\\.julia\\packages\\Oceananigans\\M82LU\\src\\Simulations\\simulation.jl:203\n"
     ]
    }
   ],
   "source": [
    "grid_gpu9 = RectilinearGrid(GPU(), size=(2048, 2048), extent=(2048, 2048), halo=(3, 3), topology=(Periodic, Flat, Bounded))\n",
    "\n",
    "model_gpu9 = NonhydrostaticModel(\n",
    "    grid = grid_gpu9,\n",
    "    advection = UpwindBiasedFifthOrder(),\n",
    "    timestepper = :RungeKutta3,\n",
    "    closure = ScalarDiffusivity(ν=1e-4, κ=1e-4),\n",
    "    coriolis = FPlane(f=1e-4),\n",
    "    tracers = (:b, :P),\n",
    "    buoyancy = BuoyancyTracer(),\n",
    "    forcing = (; P = plankton_dynamics),\n",
    "    boundary_conditions = (; b = buoyancy_bcs)\n",
    ")\n",
    "simulation_gpu9 = Simulation(model_gpu9, Δt = 2minutes, stop_time = 24hours)\n",
    "run!(simulation_gpu9)\n"
   ]
  },
  {
   "cell_type": "code",
   "execution_count": 22,
   "metadata": {},
   "outputs": [
    {
     "name": "stderr",
     "output_type": "stream",
     "text": [
      "┌ Info: Initializing simulation...\n",
      "└ @ Oceananigans.Simulations C:\\Users\\dadoi\\.julia\\packages\\Oceananigans\\M82LU\\src\\Simulations\\run.jl:184\n",
      "┌ Info:     ... simulation initialization complete (166.034 ms)\n",
      "└ @ Oceananigans.Simulations C:\\Users\\dadoi\\.julia\\packages\\Oceananigans\\M82LU\\src\\Simulations\\run.jl:220\n",
      "┌ Info: Executing initial time step...\n",
      "└ @ Oceananigans.Simulations C:\\Users\\dadoi\\.julia\\packages\\Oceananigans\\M82LU\\src\\Simulations\\run.jl:117\n",
      "┌ Info:     ... initial time step complete (5.099 seconds).\n",
      "└ @ Oceananigans.Simulations C:\\Users\\dadoi\\.julia\\packages\\Oceananigans\\M82LU\\src\\Simulations\\run.jl:126\n",
      "┌ Info: Simulation is stopping after running for 7.724 minutes.\n",
      "└ @ Oceananigans.Simulations C:\\Users\\dadoi\\.julia\\packages\\Oceananigans\\M82LU\\src\\Simulations\\simulation.jl:202\n",
      "┌ Info: Simulation time 1 day equals or exceeds stop time 1 day.\n",
      "└ @ Oceananigans.Simulations C:\\Users\\dadoi\\.julia\\packages\\Oceananigans\\M82LU\\src\\Simulations\\simulation.jl:203\n"
     ]
    }
   ],
   "source": [
    "grid_gpu10 = RectilinearGrid(GPU(), size=(4096, 4096), extent=(4096, 4096), halo=(3, 3), topology=(Periodic, Flat, Bounded))\n",
    "\n",
    "model_gpu10 = NonhydrostaticModel(\n",
    "    grid = grid_gpu10,\n",
    "    advection = UpwindBiasedFifthOrder(),\n",
    "    timestepper = :RungeKutta3,\n",
    "    closure = ScalarDiffusivity(ν=1e-4, κ=1e-4),\n",
    "    coriolis = FPlane(f=1e-4),\n",
    "    tracers = (:b, :P),\n",
    "    buoyancy = BuoyancyTracer(),\n",
    "    forcing = (; P = plankton_dynamics),\n",
    "    boundary_conditions = (; b = buoyancy_bcs)\n",
    ")\n",
    "simulation_gpu10 = Simulation(model_gpu10, Δt = 2minutes, stop_time = 24hours)\n",
    "run!(simulation_gpu10)\n"
   ]
  },
  {
   "cell_type": "code",
   "execution_count": 23,
   "metadata": {},
   "outputs": [
    {
     "name": "stderr",
     "output_type": "stream",
     "text": [
      "┌ Info: Initializing simulation...\n",
      "└ @ Oceananigans.Simulations C:\\Users\\dadoi\\.julia\\packages\\Oceananigans\\M82LU\\src\\Simulations\\run.jl:184\n",
      "┌ Info:     ... simulation initialization complete (95.893 ms)\n",
      "└ @ Oceananigans.Simulations C:\\Users\\dadoi\\.julia\\packages\\Oceananigans\\M82LU\\src\\Simulations\\run.jl:220\n",
      "┌ Info: Executing initial time step...\n",
      "└ @ Oceananigans.Simulations C:\\Users\\dadoi\\.julia\\packages\\Oceananigans\\M82LU\\src\\Simulations\\run.jl:117\n",
      "┌ Info:     ... initial time step complete (8.406 seconds).\n",
      "└ @ Oceananigans.Simulations C:\\Users\\dadoi\\.julia\\packages\\Oceananigans\\M82LU\\src\\Simulations\\run.jl:126\n",
      "┌ Info: Simulation is stopping after running for 10.668 seconds.\n",
      "└ @ Oceananigans.Simulations C:\\Users\\dadoi\\.julia\\packages\\Oceananigans\\M82LU\\src\\Simulations\\simulation.jl:202\n",
      "┌ Info: Simulation time 1 day equals or exceeds stop time 1 day.\n",
      "└ @ Oceananigans.Simulations C:\\Users\\dadoi\\.julia\\packages\\Oceananigans\\M82LU\\src\\Simulations\\simulation.jl:203\n"
     ]
    }
   ],
   "source": [
    "grid_cpu1 = RectilinearGrid(CPU(), size=(16, 16), extent=(16, 16), halo=(3, 3), topology=(Periodic, Flat, Bounded))\n",
    "\n",
    "model_cpu1 = NonhydrostaticModel(\n",
    "    grid = grid_cpu1,\n",
    "    advection = UpwindBiasedFifthOrder(),\n",
    "    timestepper = :RungeKutta3,\n",
    "    closure = ScalarDiffusivity(ν=1e-4, κ=1e-4),\n",
    "    coriolis = FPlane(f=1e-4),\n",
    "    tracers = (:b, :P),\n",
    "    buoyancy = BuoyancyTracer(),\n",
    "    forcing = (; P = plankton_dynamics),\n",
    "    boundary_conditions = (; b = buoyancy_bcs)\n",
    ")\n",
    "simulation_cpu1 = Simulation(model_cpu1, Δt = 2minutes, stop_time = 24hours)\n",
    "run!(simulation_cpu1)\n"
   ]
  },
  {
   "cell_type": "code",
   "execution_count": 24,
   "metadata": {},
   "outputs": [
    {
     "name": "stderr",
     "output_type": "stream",
     "text": [
      "┌ Info: Initializing simulation...\n",
      "└ @ Oceananigans.Simulations C:\\Users\\dadoi\\.julia\\packages\\Oceananigans\\M82LU\\src\\Simulations\\run.jl:184\n",
      "┌ Info:     ... simulation initialization complete (124.825 ms)\n",
      "└ @ Oceananigans.Simulations C:\\Users\\dadoi\\.julia\\packages\\Oceananigans\\M82LU\\src\\Simulations\\run.jl:220\n",
      "┌ Info: Executing initial time step...\n",
      "└ @ Oceananigans.Simulations C:\\Users\\dadoi\\.julia\\packages\\Oceananigans\\M82LU\\src\\Simulations\\run.jl:117\n",
      "┌ Info:     ... initial time step complete (8.659 seconds).\n",
      "└ @ Oceananigans.Simulations C:\\Users\\dadoi\\.julia\\packages\\Oceananigans\\M82LU\\src\\Simulations\\run.jl:126\n",
      "┌ Info: Simulation is stopping after running for 11.550 seconds.\n",
      "└ @ Oceananigans.Simulations C:\\Users\\dadoi\\.julia\\packages\\Oceananigans\\M82LU\\src\\Simulations\\simulation.jl:202\n",
      "┌ Info: Simulation time 1 day equals or exceeds stop time 1 day.\n",
      "└ @ Oceananigans.Simulations C:\\Users\\dadoi\\.julia\\packages\\Oceananigans\\M82LU\\src\\Simulations\\simulation.jl:203\n"
     ]
    }
   ],
   "source": [
    "grid_cpu2 = RectilinearGrid(CPU(), size=(32, 32), extent=(32, 32), halo=(3, 3), topology=(Periodic, Flat, Bounded))\n",
    "\n",
    "model_cpu2 = NonhydrostaticModel(\n",
    "    grid = grid_cpu2,\n",
    "    advection = UpwindBiasedFifthOrder(),\n",
    "    timestepper = :RungeKutta3,\n",
    "    closure = ScalarDiffusivity(ν=1e-4, κ=1e-4),\n",
    "    coriolis = FPlane(f=1e-4),\n",
    "    tracers = (:b, :P),\n",
    "    buoyancy = BuoyancyTracer(),\n",
    "    forcing = (; P = plankton_dynamics),\n",
    "    boundary_conditions = (; b = buoyancy_bcs)\n",
    ")\n",
    "simulation_cpu2 = Simulation(model_cpu2, Δt = 2minutes, stop_time = 24hours)\n",
    "run!(simulation_cpu2)\n"
   ]
  },
  {
   "cell_type": "code",
   "execution_count": 25,
   "metadata": {},
   "outputs": [
    {
     "name": "stderr",
     "output_type": "stream",
     "text": [
      "┌ Info: Initializing simulation...\n",
      "└ @ Oceananigans.Simulations C:\\Users\\dadoi\\.julia\\packages\\Oceananigans\\M82LU\\src\\Simulations\\run.jl:184\n",
      "┌ Info:     ... simulation initialization complete (79.410 ms)\n",
      "└ @ Oceananigans.Simulations C:\\Users\\dadoi\\.julia\\packages\\Oceananigans\\M82LU\\src\\Simulations\\run.jl:220\n",
      "┌ Info: Executing initial time step...\n",
      "└ @ Oceananigans.Simulations C:\\Users\\dadoi\\.julia\\packages\\Oceananigans\\M82LU\\src\\Simulations\\run.jl:117\n",
      "┌ Info:     ... initial time step complete (4.659 seconds).\n",
      "└ @ Oceananigans.Simulations C:\\Users\\dadoi\\.julia\\packages\\Oceananigans\\M82LU\\src\\Simulations\\run.jl:126\n",
      "┌ Info: Simulation is stopping after running for 10.464 seconds.\n",
      "└ @ Oceananigans.Simulations C:\\Users\\dadoi\\.julia\\packages\\Oceananigans\\M82LU\\src\\Simulations\\simulation.jl:202\n",
      "┌ Info: Simulation time 1 day equals or exceeds stop time 1 day.\n",
      "└ @ Oceananigans.Simulations C:\\Users\\dadoi\\.julia\\packages\\Oceananigans\\M82LU\\src\\Simulations\\simulation.jl:203\n"
     ]
    }
   ],
   "source": [
    "grid_cpu3 = RectilinearGrid(CPU(), size=(64, 64), extent=(64, 64), halo=(3, 3), topology=(Periodic, Flat, Bounded))\n",
    "\n",
    "model_cpu3 = NonhydrostaticModel(\n",
    "    grid = grid_cpu3,\n",
    "    advection = UpwindBiasedFifthOrder(),\n",
    "    timestepper = :RungeKutta3,\n",
    "    closure = ScalarDiffusivity(ν=1e-4, κ=1e-4),\n",
    "    coriolis = FPlane(f=1e-4),\n",
    "    tracers = (:b, :P),\n",
    "    buoyancy = BuoyancyTracer(),\n",
    "    forcing = (; P = plankton_dynamics),\n",
    "    boundary_conditions = (; b = buoyancy_bcs)\n",
    ")\n",
    "simulation_cpu3 = Simulation(model_cpu3, Δt = 2minutes, stop_time = 24hours)\n",
    "run!(simulation_cpu3)\n"
   ]
  },
  {
   "cell_type": "code",
   "execution_count": 26,
   "metadata": {},
   "outputs": [
    {
     "name": "stderr",
     "output_type": "stream",
     "text": [
      "┌ Info: Initializing simulation...\n",
      "└ @ Oceananigans.Simulations C:\\Users\\dadoi\\.julia\\packages\\Oceananigans\\M82LU\\src\\Simulations\\run.jl:184\n",
      "┌ Info:     ... simulation initialization complete (119.257 ms)\n",
      "└ @ Oceananigans.Simulations C:\\Users\\dadoi\\.julia\\packages\\Oceananigans\\M82LU\\src\\Simulations\\run.jl:220\n",
      "┌ Info: Executing initial time step...\n",
      "└ @ Oceananigans.Simulations C:\\Users\\dadoi\\.julia\\packages\\Oceananigans\\M82LU\\src\\Simulations\\run.jl:117\n",
      "┌ Info:     ... initial time step complete (5.575 seconds).\n",
      "└ @ Oceananigans.Simulations C:\\Users\\dadoi\\.julia\\packages\\Oceananigans\\M82LU\\src\\Simulations\\run.jl:126\n",
      "┌ Info: Simulation is stopping after running for 25.143 seconds.\n",
      "└ @ Oceananigans.Simulations C:\\Users\\dadoi\\.julia\\packages\\Oceananigans\\M82LU\\src\\Simulations\\simulation.jl:202\n",
      "┌ Info: Simulation time 1 day equals or exceeds stop time 1 day.\n",
      "└ @ Oceananigans.Simulations C:\\Users\\dadoi\\.julia\\packages\\Oceananigans\\M82LU\\src\\Simulations\\simulation.jl:203\n"
     ]
    }
   ],
   "source": [
    "grid_cpu4 = RectilinearGrid(CPU(), size=(128, 128), extent=(128, 128), halo=(3, 3), topology=(Periodic, Flat, Bounded))\n",
    "\n",
    "model_cpu4 = NonhydrostaticModel(\n",
    "    grid = grid_cpu4,\n",
    "    advection = UpwindBiasedFifthOrder(),\n",
    "    timestepper = :RungeKutta3,\n",
    "    closure = ScalarDiffusivity(ν=1e-4, κ=1e-4),\n",
    "    coriolis = FPlane(f=1e-4),\n",
    "    tracers = (:b, :P),\n",
    "    buoyancy = BuoyancyTracer(),\n",
    "    forcing = (; P = plankton_dynamics),\n",
    "    boundary_conditions = (; b = buoyancy_bcs)\n",
    ")\n",
    "simulation_cpu4 = Simulation(model_cpu4, Δt = 2minutes, stop_time = 24hours)\n",
    "run!(simulation_cpu4)\n"
   ]
  },
  {
   "cell_type": "code",
   "execution_count": 27,
   "metadata": {},
   "outputs": [
    {
     "name": "stderr",
     "output_type": "stream",
     "text": [
      "┌ Info: Initializing simulation...\n",
      "└ @ Oceananigans.Simulations C:\\Users\\dadoi\\.julia\\packages\\Oceananigans\\M82LU\\src\\Simulations\\run.jl:184\n",
      "┌ Info:     ... simulation initialization complete (212.983 ms)\n",
      "└ @ Oceananigans.Simulations C:\\Users\\dadoi\\.julia\\packages\\Oceananigans\\M82LU\\src\\Simulations\\run.jl:220\n",
      "┌ Info: Executing initial time step...\n",
      "└ @ Oceananigans.Simulations C:\\Users\\dadoi\\.julia\\packages\\Oceananigans\\M82LU\\src\\Simulations\\run.jl:117\n",
      "┌ Info:     ... initial time step complete (8.641 seconds).\n",
      "└ @ Oceananigans.Simulations C:\\Users\\dadoi\\.julia\\packages\\Oceananigans\\M82LU\\src\\Simulations\\run.jl:126\n",
      "┌ Info: Simulation is stopping after running for 1.805 minutes.\n",
      "└ @ Oceananigans.Simulations C:\\Users\\dadoi\\.julia\\packages\\Oceananigans\\M82LU\\src\\Simulations\\simulation.jl:202\n",
      "┌ Info: Simulation time 1 day equals or exceeds stop time 1 day.\n",
      "└ @ Oceananigans.Simulations C:\\Users\\dadoi\\.julia\\packages\\Oceananigans\\M82LU\\src\\Simulations\\simulation.jl:203\n"
     ]
    }
   ],
   "source": [
    "grid_cpu5 = RectilinearGrid(CPU(), size=(256, 256), extent=(256, 256), halo=(3, 3), topology=(Periodic, Flat, Bounded))\n",
    "\n",
    "model_cpu5 = NonhydrostaticModel(\n",
    "    grid = grid_cpu5,\n",
    "    advection = UpwindBiasedFifthOrder(),\n",
    "    timestepper = :RungeKutta3,\n",
    "    closure = ScalarDiffusivity(ν=1e-4, κ=1e-4),\n",
    "    coriolis = FPlane(f=1e-4),\n",
    "    tracers = (:b, :P),\n",
    "    buoyancy = BuoyancyTracer(),\n",
    "    forcing = (; P = plankton_dynamics),\n",
    "    boundary_conditions = (; b = buoyancy_bcs)\n",
    ")\n",
    "simulation_cpu5 = Simulation(model_cpu5, Δt = 2minutes, stop_time = 24hours)\n",
    "run!(simulation_cpu5)\n"
   ]
  },
  {
   "cell_type": "code",
   "execution_count": 28,
   "metadata": {},
   "outputs": [
    {
     "name": "stderr",
     "output_type": "stream",
     "text": [
      "┌ Info: Initializing simulation...\n",
      "└ @ Oceananigans.Simulations C:\\Users\\dadoi\\.julia\\packages\\Oceananigans\\M82LU\\src\\Simulations\\run.jl:184\n",
      "┌ Info:     ... simulation initialization complete (211.162 ms)\n",
      "└ @ Oceananigans.Simulations C:\\Users\\dadoi\\.julia\\packages\\Oceananigans\\M82LU\\src\\Simulations\\run.jl:220\n",
      "┌ Info: Executing initial time step...\n",
      "└ @ Oceananigans.Simulations C:\\Users\\dadoi\\.julia\\packages\\Oceananigans\\M82LU\\src\\Simulations\\run.jl:117\n",
      "┌ Info:     ... initial time step complete (5.382 seconds).\n",
      "└ @ Oceananigans.Simulations C:\\Users\\dadoi\\.julia\\packages\\Oceananigans\\M82LU\\src\\Simulations\\run.jl:126\n",
      "┌ Info: Simulation is stopping after running for 6.311 minutes.\n",
      "└ @ Oceananigans.Simulations C:\\Users\\dadoi\\.julia\\packages\\Oceananigans\\M82LU\\src\\Simulations\\simulation.jl:202\n",
      "┌ Info: Simulation time 1 day equals or exceeds stop time 1 day.\n",
      "└ @ Oceananigans.Simulations C:\\Users\\dadoi\\.julia\\packages\\Oceananigans\\M82LU\\src\\Simulations\\simulation.jl:203\n"
     ]
    }
   ],
   "source": [
    "grid_cpu6 = RectilinearGrid(CPU(), size=(512, 512), extent=(512, 512), halo=(3, 3), topology=(Periodic, Flat, Bounded))\n",
    "\n",
    "model_cpu6 = NonhydrostaticModel(\n",
    "    grid = grid_cpu6,\n",
    "    advection = UpwindBiasedFifthOrder(),\n",
    "    timestepper = :RungeKutta3,\n",
    "    closure = ScalarDiffusivity(ν=1e-4, κ=1e-4),\n",
    "    coriolis = FPlane(f=1e-4),\n",
    "    tracers = (:b, :P),\n",
    "    buoyancy = BuoyancyTracer(),\n",
    "    forcing = (; P = plankton_dynamics),\n",
    "    boundary_conditions = (; b = buoyancy_bcs)\n",
    ")\n",
    "simulation_cpu6 = Simulation(model_cpu6, Δt = 2minutes, stop_time = 24hours)\n",
    "run!(simulation_cpu6)\n"
   ]
  },
  {
   "cell_type": "code",
   "execution_count": 29,
   "metadata": {},
   "outputs": [
    {
     "name": "stderr",
     "output_type": "stream",
     "text": [
      "┌ Info: Initializing simulation...\n",
      "└ @ Oceananigans.Simulations C:\\Users\\dadoi\\.julia\\packages\\Oceananigans\\M82LU\\src\\Simulations\\run.jl:184\n",
      "┌ Info:     ... simulation initialization complete (690.176 ms)\n",
      "└ @ Oceananigans.Simulations C:\\Users\\dadoi\\.julia\\packages\\Oceananigans\\M82LU\\src\\Simulations\\run.jl:220\n",
      "┌ Info: Executing initial time step...\n",
      "└ @ Oceananigans.Simulations C:\\Users\\dadoi\\.julia\\packages\\Oceananigans\\M82LU\\src\\Simulations\\run.jl:117\n",
      "┌ Info:     ... initial time step complete (7.909 seconds).\n",
      "└ @ Oceananigans.Simulations C:\\Users\\dadoi\\.julia\\packages\\Oceananigans\\M82LU\\src\\Simulations\\run.jl:126\n",
      "┌ Info: Simulation is stopping after running for 26.393 minutes.\n",
      "└ @ Oceananigans.Simulations C:\\Users\\dadoi\\.julia\\packages\\Oceananigans\\M82LU\\src\\Simulations\\simulation.jl:202\n",
      "┌ Info: Simulation time 1 day equals or exceeds stop time 1 day.\n",
      "└ @ Oceananigans.Simulations C:\\Users\\dadoi\\.julia\\packages\\Oceananigans\\M82LU\\src\\Simulations\\simulation.jl:203\n"
     ]
    }
   ],
   "source": [
    "grid_cpu7 = RectilinearGrid(CPU(), size=(1024, 1024), extent=(1024, 1024), halo=(3, 3), topology=(Periodic, Flat, Bounded))\n",
    "\n",
    "model_cpu7 = NonhydrostaticModel(\n",
    "    grid = grid_cpu7,\n",
    "    advection = UpwindBiasedFifthOrder(),\n",
    "    timestepper = :RungeKutta3,\n",
    "    closure = ScalarDiffusivity(ν=1e-4, κ=1e-4),\n",
    "    coriolis = FPlane(f=1e-4),\n",
    "    tracers = (:b, :P),\n",
    "    buoyancy = BuoyancyTracer(),\n",
    "    forcing = (; P = plankton_dynamics),\n",
    "    boundary_conditions = (; b = buoyancy_bcs)\n",
    ")\n",
    "simulation_cpu7 = Simulation(model_cpu7, Δt = 2minutes, stop_time = 24hours)\n",
    "run!(simulation_cpu7)\n"
   ]
  },
  {
   "cell_type": "code",
   "execution_count": null,
   "metadata": {},
   "outputs": [],
   "source": [
    "grid_cpu8 = RectilinearGrid(CPU(), size=(2048, 2048), extent=(2048, 2048), halo=(3, 3), topology=(Periodic, Flat, Bounded))\n",
    "\n",
    "model_cpu8 = NonhydrostaticModel(\n",
    "    grid = grid_cpu8,\n",
    "    advection = UpwindBiasedFifthOrder(),\n",
    "    timestepper = :RungeKutta3,\n",
    "    closure = ScalarDiffusivity(ν=1e-4, κ=1e-4),\n",
    "    coriolis = FPlane(f=1e-4),\n",
    "    tracers = (:b, :P),\n",
    "    buoyancy = BuoyancyTracer(),\n",
    "    forcing = (; P = plankton_dynamics),\n",
    "    boundary_conditions = (; b = buoyancy_bcs)\n",
    ")\n",
    "simulation_cpu8 = Simulation(model_cpu8, Δt = 2minutes, stop_time = 24hours)\n",
    "run!(simulation_cpu8)\n"
   ]
  },
  {
   "cell_type": "code",
   "execution_count": null,
   "metadata": {},
   "outputs": [],
   "source": []
  }
 ],
 "metadata": {
  "kernelspec": {
   "display_name": "Julia 1.10.3",
   "language": "julia",
   "name": "julia-1.10"
  },
  "language_info": {
   "file_extension": ".jl",
   "mimetype": "application/julia",
   "name": "julia",
   "version": "1.10.3"
  }
 },
 "nbformat": 4,
 "nbformat_minor": 2
}
